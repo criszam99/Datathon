{
 "cells": [
  {
   "cell_type": "markdown",
   "metadata": {},
   "source": [
    "![separator2](https://i.imgur.com/4gX5WFr.png)\n",
    "\n",
    "<img src=\"https://www.crikey.com.au/wp-content/uploads/2019/09/GettyImages-916333660.jpg?w=740\"\n",
    "    style=\"width:800px; float: middle; margin: 0 40px 40px 40px;\"></img>\n",
    "# Bicycle Share Scheme\n",
    "## Datathon Individual de Henry\n",
    "### Autora: Cristina del Valle Zamorano \n",
    "#### https://www.linkedin.com/in/cristina-zamorano-36623a86\n",
    "\n",
    "![separator2](https://i.imgur.com/4gX5WFr.png)"
   ]
  },
  {
   "cell_type": "markdown",
   "metadata": {},
   "source": [
    "### Se importan e instalan las librerias necesarias"
   ]
  },
  {
   "cell_type": "code",
   "execution_count": 2,
   "metadata": {},
   "outputs": [],
   "source": [
    "import pandas as pd\n",
    "import numpy as np\n",
    "import matplotlib.pyplot as plt\n",
    "import missingno as msno\n",
    "import seaborn as sns\n",
    "import sklearn as sk\n",
    "%matplotlib inline"
   ]
  },
  {
   "cell_type": "markdown",
   "metadata": {},
   "source": [
    "![separator2](https://i.imgur.com/4gX5WFr.png)\n",
    "\n",
    "### Preparación y limpieza de datos:\n",
    "Se cargará el conjunto de datos los dataframe, se veran las columnas y filas de los datos, se realizará estadísticas descriptivas para conocer mejor las características dentro del conjunto de datos, se escribirá las observaciones, se encontrará (en caso de ser necesario) los valores faltantes.\n",
    "\n",
    "### Se crean los Dataframe utilizando Pandas\n",
    "\n",
    "* bike_train\n",
    "* bike_test"
   ]
  },
  {
   "cell_type": "code",
   "execution_count": 3,
   "metadata": {},
   "outputs": [
    {
     "data": {
      "text/html": [
       "<div>\n",
       "<style scoped>\n",
       "    .dataframe tbody tr th:only-of-type {\n",
       "        vertical-align: middle;\n",
       "    }\n",
       "\n",
       "    .dataframe tbody tr th {\n",
       "        vertical-align: top;\n",
       "    }\n",
       "\n",
       "    .dataframe thead th {\n",
       "        text-align: right;\n",
       "    }\n",
       "</style>\n",
       "<table border=\"1\" class=\"dataframe\">\n",
       "  <thead>\n",
       "    <tr style=\"text-align: right;\">\n",
       "      <th></th>\n",
       "      <th>instant</th>\n",
       "      <th>dteday</th>\n",
       "      <th>season</th>\n",
       "      <th>yr</th>\n",
       "      <th>mnth</th>\n",
       "      <th>hr</th>\n",
       "      <th>holiday</th>\n",
       "      <th>weekday</th>\n",
       "      <th>workingday</th>\n",
       "      <th>weathersit</th>\n",
       "      <th>temp</th>\n",
       "      <th>atemp</th>\n",
       "      <th>hum</th>\n",
       "      <th>windspeed</th>\n",
       "      <th>casual</th>\n",
       "      <th>registered</th>\n",
       "      <th>cnt</th>\n",
       "    </tr>\n",
       "  </thead>\n",
       "  <tbody>\n",
       "    <tr>\n",
       "      <th>0</th>\n",
       "      <td>1</td>\n",
       "      <td>2011-01-01</td>\n",
       "      <td>1</td>\n",
       "      <td>0</td>\n",
       "      <td>1</td>\n",
       "      <td>0</td>\n",
       "      <td>0</td>\n",
       "      <td>6</td>\n",
       "      <td>0</td>\n",
       "      <td>1</td>\n",
       "      <td>0.24</td>\n",
       "      <td>0.2879</td>\n",
       "      <td>0.81</td>\n",
       "      <td>0.0</td>\n",
       "      <td>3</td>\n",
       "      <td>13</td>\n",
       "      <td>16</td>\n",
       "    </tr>\n",
       "    <tr>\n",
       "      <th>1</th>\n",
       "      <td>2</td>\n",
       "      <td>2011-01-01</td>\n",
       "      <td>1</td>\n",
       "      <td>0</td>\n",
       "      <td>1</td>\n",
       "      <td>1</td>\n",
       "      <td>0</td>\n",
       "      <td>6</td>\n",
       "      <td>0</td>\n",
       "      <td>1</td>\n",
       "      <td>0.22</td>\n",
       "      <td>0.2727</td>\n",
       "      <td>0.80</td>\n",
       "      <td>0.0</td>\n",
       "      <td>8</td>\n",
       "      <td>32</td>\n",
       "      <td>40</td>\n",
       "    </tr>\n",
       "    <tr>\n",
       "      <th>2</th>\n",
       "      <td>3</td>\n",
       "      <td>2011-01-01</td>\n",
       "      <td>1</td>\n",
       "      <td>0</td>\n",
       "      <td>1</td>\n",
       "      <td>2</td>\n",
       "      <td>0</td>\n",
       "      <td>6</td>\n",
       "      <td>0</td>\n",
       "      <td>1</td>\n",
       "      <td>0.22</td>\n",
       "      <td>0.2727</td>\n",
       "      <td>0.80</td>\n",
       "      <td>0.0</td>\n",
       "      <td>5</td>\n",
       "      <td>27</td>\n",
       "      <td>32</td>\n",
       "    </tr>\n",
       "    <tr>\n",
       "      <th>3</th>\n",
       "      <td>4</td>\n",
       "      <td>2011-01-01</td>\n",
       "      <td>1</td>\n",
       "      <td>0</td>\n",
       "      <td>1</td>\n",
       "      <td>3</td>\n",
       "      <td>0</td>\n",
       "      <td>6</td>\n",
       "      <td>0</td>\n",
       "      <td>1</td>\n",
       "      <td>0.24</td>\n",
       "      <td>0.2879</td>\n",
       "      <td>0.75</td>\n",
       "      <td>0.0</td>\n",
       "      <td>3</td>\n",
       "      <td>10</td>\n",
       "      <td>13</td>\n",
       "    </tr>\n",
       "    <tr>\n",
       "      <th>4</th>\n",
       "      <td>5</td>\n",
       "      <td>2011-01-01</td>\n",
       "      <td>1</td>\n",
       "      <td>0</td>\n",
       "      <td>1</td>\n",
       "      <td>4</td>\n",
       "      <td>0</td>\n",
       "      <td>6</td>\n",
       "      <td>0</td>\n",
       "      <td>1</td>\n",
       "      <td>0.24</td>\n",
       "      <td>0.2879</td>\n",
       "      <td>0.75</td>\n",
       "      <td>0.0</td>\n",
       "      <td>0</td>\n",
       "      <td>1</td>\n",
       "      <td>1</td>\n",
       "    </tr>\n",
       "  </tbody>\n",
       "</table>\n",
       "</div>"
      ],
      "text/plain": [
       "   instant     dteday  season  yr  mnth  hr  holiday  weekday  workingday  \\\n",
       "0        1 2011-01-01       1   0     1   0        0        6           0   \n",
       "1        2 2011-01-01       1   0     1   1        0        6           0   \n",
       "2        3 2011-01-01       1   0     1   2        0        6           0   \n",
       "3        4 2011-01-01       1   0     1   3        0        6           0   \n",
       "4        5 2011-01-01       1   0     1   4        0        6           0   \n",
       "\n",
       "   weathersit  temp   atemp   hum  windspeed  casual  registered  cnt  \n",
       "0           1  0.24  0.2879  0.81        0.0       3          13   16  \n",
       "1           1  0.22  0.2727  0.80        0.0       8          32   40  \n",
       "2           1  0.22  0.2727  0.80        0.0       5          27   32  \n",
       "3           1  0.24  0.2879  0.75        0.0       3          10   13  \n",
       "4           1  0.24  0.2879  0.75        0.0       0           1    1  "
      ]
     },
     "execution_count": 3,
     "metadata": {},
     "output_type": "execute_result"
    }
   ],
   "source": [
    "#se importan los datos bike_train.xlsx\n",
    "bike_train = pd.read_excel('bike_train.xlsx')\n",
    "bike_train.head() "
   ]
  },
  {
   "cell_type": "code",
   "execution_count": 4,
   "metadata": {},
   "outputs": [
    {
     "data": {
      "text/html": [
       "<div>\n",
       "<style scoped>\n",
       "    .dataframe tbody tr th:only-of-type {\n",
       "        vertical-align: middle;\n",
       "    }\n",
       "\n",
       "    .dataframe tbody tr th {\n",
       "        vertical-align: top;\n",
       "    }\n",
       "\n",
       "    .dataframe thead th {\n",
       "        text-align: right;\n",
       "    }\n",
       "</style>\n",
       "<table border=\"1\" class=\"dataframe\">\n",
       "  <thead>\n",
       "    <tr style=\"text-align: right;\">\n",
       "      <th></th>\n",
       "      <th>instant</th>\n",
       "      <th>dteday</th>\n",
       "      <th>season</th>\n",
       "      <th>yr</th>\n",
       "      <th>mnth</th>\n",
       "      <th>hr</th>\n",
       "      <th>holiday</th>\n",
       "      <th>weekday</th>\n",
       "      <th>workingday</th>\n",
       "      <th>weathersit</th>\n",
       "      <th>temp</th>\n",
       "      <th>atemp</th>\n",
       "      <th>hum</th>\n",
       "      <th>windspeed</th>\n",
       "    </tr>\n",
       "  </thead>\n",
       "  <tbody>\n",
       "    <tr>\n",
       "      <th>0</th>\n",
       "      <td>12000</td>\n",
       "      <td>2012-05-20</td>\n",
       "      <td>2</td>\n",
       "      <td>1</td>\n",
       "      <td>5</td>\n",
       "      <td>4</td>\n",
       "      <td>0</td>\n",
       "      <td>0</td>\n",
       "      <td>0</td>\n",
       "      <td>1</td>\n",
       "      <td>0.52</td>\n",
       "      <td>0.5000</td>\n",
       "      <td>0.68</td>\n",
       "      <td>0.0896</td>\n",
       "    </tr>\n",
       "    <tr>\n",
       "      <th>1</th>\n",
       "      <td>12001</td>\n",
       "      <td>2012-05-20</td>\n",
       "      <td>2</td>\n",
       "      <td>1</td>\n",
       "      <td>5</td>\n",
       "      <td>5</td>\n",
       "      <td>0</td>\n",
       "      <td>0</td>\n",
       "      <td>0</td>\n",
       "      <td>1</td>\n",
       "      <td>0.50</td>\n",
       "      <td>0.4848</td>\n",
       "      <td>0.72</td>\n",
       "      <td>0.1045</td>\n",
       "    </tr>\n",
       "    <tr>\n",
       "      <th>2</th>\n",
       "      <td>12002</td>\n",
       "      <td>2012-05-20</td>\n",
       "      <td>2</td>\n",
       "      <td>1</td>\n",
       "      <td>5</td>\n",
       "      <td>6</td>\n",
       "      <td>0</td>\n",
       "      <td>0</td>\n",
       "      <td>0</td>\n",
       "      <td>1</td>\n",
       "      <td>0.50</td>\n",
       "      <td>0.4848</td>\n",
       "      <td>0.63</td>\n",
       "      <td>0.1343</td>\n",
       "    </tr>\n",
       "    <tr>\n",
       "      <th>3</th>\n",
       "      <td>12003</td>\n",
       "      <td>2012-05-20</td>\n",
       "      <td>2</td>\n",
       "      <td>1</td>\n",
       "      <td>5</td>\n",
       "      <td>7</td>\n",
       "      <td>0</td>\n",
       "      <td>0</td>\n",
       "      <td>0</td>\n",
       "      <td>1</td>\n",
       "      <td>0.52</td>\n",
       "      <td>0.5000</td>\n",
       "      <td>0.68</td>\n",
       "      <td>0.1940</td>\n",
       "    </tr>\n",
       "    <tr>\n",
       "      <th>4</th>\n",
       "      <td>12004</td>\n",
       "      <td>2012-05-20</td>\n",
       "      <td>2</td>\n",
       "      <td>1</td>\n",
       "      <td>5</td>\n",
       "      <td>8</td>\n",
       "      <td>0</td>\n",
       "      <td>0</td>\n",
       "      <td>0</td>\n",
       "      <td>1</td>\n",
       "      <td>0.56</td>\n",
       "      <td>0.5303</td>\n",
       "      <td>0.56</td>\n",
       "      <td>0.1642</td>\n",
       "    </tr>\n",
       "  </tbody>\n",
       "</table>\n",
       "</div>"
      ],
      "text/plain": [
       "   instant     dteday  season  yr  mnth  hr  holiday  weekday  workingday  \\\n",
       "0    12000 2012-05-20       2   1     5   4        0        0           0   \n",
       "1    12001 2012-05-20       2   1     5   5        0        0           0   \n",
       "2    12002 2012-05-20       2   1     5   6        0        0           0   \n",
       "3    12003 2012-05-20       2   1     5   7        0        0           0   \n",
       "4    12004 2012-05-20       2   1     5   8        0        0           0   \n",
       "\n",
       "   weathersit  temp   atemp   hum  windspeed  \n",
       "0           1  0.52  0.5000  0.68     0.0896  \n",
       "1           1  0.50  0.4848  0.72     0.1045  \n",
       "2           1  0.50  0.4848  0.63     0.1343  \n",
       "3           1  0.52  0.5000  0.68     0.1940  \n",
       "4           1  0.56  0.5303  0.56     0.1642  "
      ]
     },
     "execution_count": 4,
     "metadata": {},
     "output_type": "execute_result"
    }
   ],
   "source": [
    "#se importan los datos bike_test.xlsx\n",
    "bike_test = pd.read_excel('bike_test.xlsx')\n",
    "bike_test.head() "
   ]
  },
  {
   "cell_type": "markdown",
   "metadata": {},
   "source": [
    "##### Tamaño del Data Frame (numero de filas y columnas) y Nombre de las columnas"
   ]
  },
  {
   "cell_type": "code",
   "execution_count": 5,
   "metadata": {},
   "outputs": [
    {
     "name": "stdout",
     "output_type": "stream",
     "text": [
      "Cantidad de Filas y columnas: (11999, 17)\n",
      "Nombre columnas: Index(['instant', 'dteday', 'season', 'yr', 'mnth', 'hr', 'holiday', 'weekday',\n",
      "       'workingday', 'weathersit', 'temp', 'atemp', 'hum', 'windspeed',\n",
      "       'casual', 'registered', 'cnt'],\n",
      "      dtype='object')\n"
     ]
    }
   ],
   "source": [
    "print('Cantidad de Filas y columnas:',bike_train.shape)\n",
    "print('Nombre columnas:',bike_train.columns)"
   ]
  },
  {
   "cell_type": "code",
   "execution_count": 6,
   "metadata": {},
   "outputs": [
    {
     "name": "stdout",
     "output_type": "stream",
     "text": [
      "Cantidad de Filas y columnas: (5380, 14)\n",
      "Nombre columnas: Index(['instant', 'dteday', 'season', 'yr', 'mnth', 'hr', 'holiday', 'weekday',\n",
      "       'workingday', 'weathersit', 'temp', 'atemp', 'hum', 'windspeed'],\n",
      "      dtype='object')\n"
     ]
    }
   ],
   "source": [
    "print('Cantidad de Filas y columnas:',bike_test.shape)\n",
    "print('Nombre columnas:',bike_test.columns)"
   ]
  },
  {
   "cell_type": "markdown",
   "metadata": {},
   "source": [
    "##### Columnas, nulos y tipo de datos"
   ]
  },
  {
   "cell_type": "code",
   "execution_count": 7,
   "metadata": {},
   "outputs": [
    {
     "name": "stdout",
     "output_type": "stream",
     "text": [
      "<class 'pandas.core.frame.DataFrame'>\n",
      "RangeIndex: 11999 entries, 0 to 11998\n",
      "Data columns (total 17 columns):\n",
      " #   Column      Non-Null Count  Dtype         \n",
      "---  ------      --------------  -----         \n",
      " 0   instant     11999 non-null  int64         \n",
      " 1   dteday      11999 non-null  datetime64[ns]\n",
      " 2   season      11999 non-null  int64         \n",
      " 3   yr          11999 non-null  int64         \n",
      " 4   mnth        11999 non-null  int64         \n",
      " 5   hr          11999 non-null  int64         \n",
      " 6   holiday     11999 non-null  int64         \n",
      " 7   weekday     11999 non-null  int64         \n",
      " 8   workingday  11999 non-null  int64         \n",
      " 9   weathersit  11999 non-null  int64         \n",
      " 10  temp        11999 non-null  float64       \n",
      " 11  atemp       11999 non-null  float64       \n",
      " 12  hum         11999 non-null  float64       \n",
      " 13  windspeed   11999 non-null  float64       \n",
      " 14  casual      11999 non-null  int64         \n",
      " 15  registered  11999 non-null  int64         \n",
      " 16  cnt         11999 non-null  int64         \n",
      "dtypes: datetime64[ns](1), float64(4), int64(12)\n",
      "memory usage: 1.6 MB\n"
     ]
    }
   ],
   "source": [
    "bike_train.info()"
   ]
  },
  {
   "cell_type": "code",
   "execution_count": 8,
   "metadata": {},
   "outputs": [
    {
     "name": "stdout",
     "output_type": "stream",
     "text": [
      "<class 'pandas.core.frame.DataFrame'>\n",
      "RangeIndex: 5380 entries, 0 to 5379\n",
      "Data columns (total 14 columns):\n",
      " #   Column      Non-Null Count  Dtype         \n",
      "---  ------      --------------  -----         \n",
      " 0   instant     5380 non-null   int64         \n",
      " 1   dteday      5380 non-null   datetime64[ns]\n",
      " 2   season      5380 non-null   int64         \n",
      " 3   yr          5380 non-null   int64         \n",
      " 4   mnth        5380 non-null   int64         \n",
      " 5   hr          5380 non-null   int64         \n",
      " 6   holiday     5380 non-null   int64         \n",
      " 7   weekday     5380 non-null   int64         \n",
      " 8   workingday  5380 non-null   int64         \n",
      " 9   weathersit  5380 non-null   int64         \n",
      " 10  temp        5380 non-null   float64       \n",
      " 11  atemp       5380 non-null   float64       \n",
      " 12  hum         5380 non-null   float64       \n",
      " 13  windspeed   5380 non-null   float64       \n",
      "dtypes: datetime64[ns](1), float64(4), int64(9)\n",
      "memory usage: 588.6 KB\n"
     ]
    }
   ],
   "source": [
    "bike_test.info()"
   ]
  },
  {
   "cell_type": "markdown",
   "metadata": {},
   "source": [
    "### bike_train \n",
    "* Cantidad de Filas: 11999- Cada registro muestra la **cantidad de bicicletas alquiladas.** La suma total de alquileres es **1.902.981** y la cantidad máxima por registro es de **957** alquileres.\n",
    "* Cantidad de Columnas: 17\n",
    "* Sin datos nulos\n",
    "\n",
    "### bike_test\n",
    "* Cantidad de Filas: 5380 - Cada registro muestra un **alquiler individual.** La suma total de alquileres es de **5380**\n",
    "* Cantidad de Columnas: 14\n",
    "* Sin datos nulos"
   ]
  },
  {
   "cell_type": "code",
   "execution_count": 9,
   "metadata": {},
   "outputs": [
    {
     "data": {
      "text/plain": [
       "1902981"
      ]
     },
     "execution_count": 9,
     "metadata": {},
     "output_type": "execute_result"
    }
   ],
   "source": [
    "#Numero total de cnt\n",
    "bike_train['cnt'].sum()"
   ]
  },
  {
   "cell_type": "code",
   "execution_count": 10,
   "metadata": {},
   "outputs": [
    {
     "data": {
      "text/plain": [
       "957"
      ]
     },
     "execution_count": 10,
     "metadata": {},
     "output_type": "execute_result"
    }
   ],
   "source": [
    "# valor máximo de cnt \n",
    "bike_train['cnt'].max()"
   ]
  },
  {
   "cell_type": "markdown",
   "metadata": {},
   "source": [
    "#### Se van a eliminar las columnas del Data Frame **bike_train** que no se encuentren en **bike_test**, excepto **cnt**."
   ]
  },
  {
   "cell_type": "code",
   "execution_count": 11,
   "metadata": {},
   "outputs": [
    {
     "data": {
      "text/html": [
       "<div>\n",
       "<style scoped>\n",
       "    .dataframe tbody tr th:only-of-type {\n",
       "        vertical-align: middle;\n",
       "    }\n",
       "\n",
       "    .dataframe tbody tr th {\n",
       "        vertical-align: top;\n",
       "    }\n",
       "\n",
       "    .dataframe thead th {\n",
       "        text-align: right;\n",
       "    }\n",
       "</style>\n",
       "<table border=\"1\" class=\"dataframe\">\n",
       "  <thead>\n",
       "    <tr style=\"text-align: right;\">\n",
       "      <th></th>\n",
       "      <th>dteday</th>\n",
       "      <th>season</th>\n",
       "      <th>yr</th>\n",
       "      <th>mnth</th>\n",
       "      <th>hr</th>\n",
       "      <th>holiday</th>\n",
       "      <th>weekday</th>\n",
       "      <th>workingday</th>\n",
       "      <th>weathersit</th>\n",
       "      <th>temp</th>\n",
       "      <th>atemp</th>\n",
       "      <th>hum</th>\n",
       "      <th>windspeed</th>\n",
       "      <th>cnt</th>\n",
       "    </tr>\n",
       "  </thead>\n",
       "  <tbody>\n",
       "    <tr>\n",
       "      <th>0</th>\n",
       "      <td>2011-01-01</td>\n",
       "      <td>1</td>\n",
       "      <td>0</td>\n",
       "      <td>1</td>\n",
       "      <td>0</td>\n",
       "      <td>0</td>\n",
       "      <td>6</td>\n",
       "      <td>0</td>\n",
       "      <td>1</td>\n",
       "      <td>0.24</td>\n",
       "      <td>0.2879</td>\n",
       "      <td>0.81</td>\n",
       "      <td>0.0</td>\n",
       "      <td>16</td>\n",
       "    </tr>\n",
       "    <tr>\n",
       "      <th>1</th>\n",
       "      <td>2011-01-01</td>\n",
       "      <td>1</td>\n",
       "      <td>0</td>\n",
       "      <td>1</td>\n",
       "      <td>1</td>\n",
       "      <td>0</td>\n",
       "      <td>6</td>\n",
       "      <td>0</td>\n",
       "      <td>1</td>\n",
       "      <td>0.22</td>\n",
       "      <td>0.2727</td>\n",
       "      <td>0.80</td>\n",
       "      <td>0.0</td>\n",
       "      <td>40</td>\n",
       "    </tr>\n",
       "    <tr>\n",
       "      <th>2</th>\n",
       "      <td>2011-01-01</td>\n",
       "      <td>1</td>\n",
       "      <td>0</td>\n",
       "      <td>1</td>\n",
       "      <td>2</td>\n",
       "      <td>0</td>\n",
       "      <td>6</td>\n",
       "      <td>0</td>\n",
       "      <td>1</td>\n",
       "      <td>0.22</td>\n",
       "      <td>0.2727</td>\n",
       "      <td>0.80</td>\n",
       "      <td>0.0</td>\n",
       "      <td>32</td>\n",
       "    </tr>\n",
       "    <tr>\n",
       "      <th>3</th>\n",
       "      <td>2011-01-01</td>\n",
       "      <td>1</td>\n",
       "      <td>0</td>\n",
       "      <td>1</td>\n",
       "      <td>3</td>\n",
       "      <td>0</td>\n",
       "      <td>6</td>\n",
       "      <td>0</td>\n",
       "      <td>1</td>\n",
       "      <td>0.24</td>\n",
       "      <td>0.2879</td>\n",
       "      <td>0.75</td>\n",
       "      <td>0.0</td>\n",
       "      <td>13</td>\n",
       "    </tr>\n",
       "    <tr>\n",
       "      <th>4</th>\n",
       "      <td>2011-01-01</td>\n",
       "      <td>1</td>\n",
       "      <td>0</td>\n",
       "      <td>1</td>\n",
       "      <td>4</td>\n",
       "      <td>0</td>\n",
       "      <td>6</td>\n",
       "      <td>0</td>\n",
       "      <td>1</td>\n",
       "      <td>0.24</td>\n",
       "      <td>0.2879</td>\n",
       "      <td>0.75</td>\n",
       "      <td>0.0</td>\n",
       "      <td>1</td>\n",
       "    </tr>\n",
       "  </tbody>\n",
       "</table>\n",
       "</div>"
      ],
      "text/plain": [
       "      dteday  season  yr  mnth  hr  holiday  weekday  workingday  weathersit  \\\n",
       "0 2011-01-01       1   0     1   0        0        6           0           1   \n",
       "1 2011-01-01       1   0     1   1        0        6           0           1   \n",
       "2 2011-01-01       1   0     1   2        0        6           0           1   \n",
       "3 2011-01-01       1   0     1   3        0        6           0           1   \n",
       "4 2011-01-01       1   0     1   4        0        6           0           1   \n",
       "\n",
       "   temp   atemp   hum  windspeed  cnt  \n",
       "0  0.24  0.2879  0.81        0.0   16  \n",
       "1  0.22  0.2727  0.80        0.0   40  \n",
       "2  0.22  0.2727  0.80        0.0   32  \n",
       "3  0.24  0.2879  0.75        0.0   13  \n",
       "4  0.24  0.2879  0.75        0.0    1  "
      ]
     },
     "execution_count": 11,
     "metadata": {},
     "output_type": "execute_result"
    }
   ],
   "source": [
    "# Se van a eliminar las columnas del Data Frame **bike_train** que no se encuentren en **bike_test**, excepto cnt\n",
    "bike_train = bike_train.drop(['instant','casual','registered'], axis=1)\n",
    "bike_train.head()"
   ]
  },
  {
   "cell_type": "code",
   "execution_count": 12,
   "metadata": {},
   "outputs": [
    {
     "data": {
      "text/html": [
       "<div>\n",
       "<style scoped>\n",
       "    .dataframe tbody tr th:only-of-type {\n",
       "        vertical-align: middle;\n",
       "    }\n",
       "\n",
       "    .dataframe tbody tr th {\n",
       "        vertical-align: top;\n",
       "    }\n",
       "\n",
       "    .dataframe thead th {\n",
       "        text-align: right;\n",
       "    }\n",
       "</style>\n",
       "<table border=\"1\" class=\"dataframe\">\n",
       "  <thead>\n",
       "    <tr style=\"text-align: right;\">\n",
       "      <th></th>\n",
       "      <th>dteday</th>\n",
       "      <th>season</th>\n",
       "      <th>yr</th>\n",
       "      <th>mnth</th>\n",
       "      <th>hr</th>\n",
       "      <th>holiday</th>\n",
       "      <th>weekday</th>\n",
       "      <th>workingday</th>\n",
       "      <th>weathersit</th>\n",
       "      <th>temp</th>\n",
       "      <th>atemp</th>\n",
       "      <th>hum</th>\n",
       "      <th>windspeed</th>\n",
       "    </tr>\n",
       "  </thead>\n",
       "  <tbody>\n",
       "    <tr>\n",
       "      <th>0</th>\n",
       "      <td>2012-05-20</td>\n",
       "      <td>2</td>\n",
       "      <td>1</td>\n",
       "      <td>5</td>\n",
       "      <td>4</td>\n",
       "      <td>0</td>\n",
       "      <td>0</td>\n",
       "      <td>0</td>\n",
       "      <td>1</td>\n",
       "      <td>0.52</td>\n",
       "      <td>0.5000</td>\n",
       "      <td>0.68</td>\n",
       "      <td>0.0896</td>\n",
       "    </tr>\n",
       "    <tr>\n",
       "      <th>1</th>\n",
       "      <td>2012-05-20</td>\n",
       "      <td>2</td>\n",
       "      <td>1</td>\n",
       "      <td>5</td>\n",
       "      <td>5</td>\n",
       "      <td>0</td>\n",
       "      <td>0</td>\n",
       "      <td>0</td>\n",
       "      <td>1</td>\n",
       "      <td>0.50</td>\n",
       "      <td>0.4848</td>\n",
       "      <td>0.72</td>\n",
       "      <td>0.1045</td>\n",
       "    </tr>\n",
       "    <tr>\n",
       "      <th>2</th>\n",
       "      <td>2012-05-20</td>\n",
       "      <td>2</td>\n",
       "      <td>1</td>\n",
       "      <td>5</td>\n",
       "      <td>6</td>\n",
       "      <td>0</td>\n",
       "      <td>0</td>\n",
       "      <td>0</td>\n",
       "      <td>1</td>\n",
       "      <td>0.50</td>\n",
       "      <td>0.4848</td>\n",
       "      <td>0.63</td>\n",
       "      <td>0.1343</td>\n",
       "    </tr>\n",
       "    <tr>\n",
       "      <th>3</th>\n",
       "      <td>2012-05-20</td>\n",
       "      <td>2</td>\n",
       "      <td>1</td>\n",
       "      <td>5</td>\n",
       "      <td>7</td>\n",
       "      <td>0</td>\n",
       "      <td>0</td>\n",
       "      <td>0</td>\n",
       "      <td>1</td>\n",
       "      <td>0.52</td>\n",
       "      <td>0.5000</td>\n",
       "      <td>0.68</td>\n",
       "      <td>0.1940</td>\n",
       "    </tr>\n",
       "    <tr>\n",
       "      <th>4</th>\n",
       "      <td>2012-05-20</td>\n",
       "      <td>2</td>\n",
       "      <td>1</td>\n",
       "      <td>5</td>\n",
       "      <td>8</td>\n",
       "      <td>0</td>\n",
       "      <td>0</td>\n",
       "      <td>0</td>\n",
       "      <td>1</td>\n",
       "      <td>0.56</td>\n",
       "      <td>0.5303</td>\n",
       "      <td>0.56</td>\n",
       "      <td>0.1642</td>\n",
       "    </tr>\n",
       "  </tbody>\n",
       "</table>\n",
       "</div>"
      ],
      "text/plain": [
       "      dteday  season  yr  mnth  hr  holiday  weekday  workingday  weathersit  \\\n",
       "0 2012-05-20       2   1     5   4        0        0           0           1   \n",
       "1 2012-05-20       2   1     5   5        0        0           0           1   \n",
       "2 2012-05-20       2   1     5   6        0        0           0           1   \n",
       "3 2012-05-20       2   1     5   7        0        0           0           1   \n",
       "4 2012-05-20       2   1     5   8        0        0           0           1   \n",
       "\n",
       "   temp   atemp   hum  windspeed  \n",
       "0  0.52  0.5000  0.68     0.0896  \n",
       "1  0.50  0.4848  0.72     0.1045  \n",
       "2  0.50  0.4848  0.63     0.1343  \n",
       "3  0.52  0.5000  0.68     0.1940  \n",
       "4  0.56  0.5303  0.56     0.1642  "
      ]
     },
     "execution_count": 12,
     "metadata": {},
     "output_type": "execute_result"
    }
   ],
   "source": [
    "#borrar la columna instant de la base de datos bike_test\n",
    "bike_test = bike_test.drop(['instant'], axis=1)\n",
    "bike_test.head()"
   ]
  },
  {
   "cell_type": "code",
   "execution_count": 13,
   "metadata": {},
   "outputs": [
    {
     "data": {
      "text/html": [
       "<div>\n",
       "<style scoped>\n",
       "    .dataframe tbody tr th:only-of-type {\n",
       "        vertical-align: middle;\n",
       "    }\n",
       "\n",
       "    .dataframe tbody tr th {\n",
       "        vertical-align: top;\n",
       "    }\n",
       "\n",
       "    .dataframe thead th {\n",
       "        text-align: right;\n",
       "    }\n",
       "</style>\n",
       "<table border=\"1\" class=\"dataframe\">\n",
       "  <thead>\n",
       "    <tr style=\"text-align: right;\">\n",
       "      <th></th>\n",
       "      <th>dteday</th>\n",
       "      <th>season</th>\n",
       "      <th>yr</th>\n",
       "      <th>mnth</th>\n",
       "      <th>hr</th>\n",
       "      <th>holiday</th>\n",
       "      <th>weekday</th>\n",
       "      <th>workingday</th>\n",
       "      <th>weathersit</th>\n",
       "      <th>temp</th>\n",
       "      <th>atemp</th>\n",
       "      <th>hum</th>\n",
       "      <th>windspeed</th>\n",
       "    </tr>\n",
       "  </thead>\n",
       "  <tbody>\n",
       "    <tr>\n",
       "      <th>5375</th>\n",
       "      <td>2012-12-31</td>\n",
       "      <td>1</td>\n",
       "      <td>1</td>\n",
       "      <td>12</td>\n",
       "      <td>19</td>\n",
       "      <td>0</td>\n",
       "      <td>1</td>\n",
       "      <td>1</td>\n",
       "      <td>2</td>\n",
       "      <td>0.26</td>\n",
       "      <td>0.2576</td>\n",
       "      <td>0.60</td>\n",
       "      <td>0.1642</td>\n",
       "    </tr>\n",
       "    <tr>\n",
       "      <th>5376</th>\n",
       "      <td>2012-12-31</td>\n",
       "      <td>1</td>\n",
       "      <td>1</td>\n",
       "      <td>12</td>\n",
       "      <td>20</td>\n",
       "      <td>0</td>\n",
       "      <td>1</td>\n",
       "      <td>1</td>\n",
       "      <td>2</td>\n",
       "      <td>0.26</td>\n",
       "      <td>0.2576</td>\n",
       "      <td>0.60</td>\n",
       "      <td>0.1642</td>\n",
       "    </tr>\n",
       "    <tr>\n",
       "      <th>5377</th>\n",
       "      <td>2012-12-31</td>\n",
       "      <td>1</td>\n",
       "      <td>1</td>\n",
       "      <td>12</td>\n",
       "      <td>21</td>\n",
       "      <td>0</td>\n",
       "      <td>1</td>\n",
       "      <td>1</td>\n",
       "      <td>1</td>\n",
       "      <td>0.26</td>\n",
       "      <td>0.2576</td>\n",
       "      <td>0.60</td>\n",
       "      <td>0.1642</td>\n",
       "    </tr>\n",
       "    <tr>\n",
       "      <th>5378</th>\n",
       "      <td>2012-12-31</td>\n",
       "      <td>1</td>\n",
       "      <td>1</td>\n",
       "      <td>12</td>\n",
       "      <td>22</td>\n",
       "      <td>0</td>\n",
       "      <td>1</td>\n",
       "      <td>1</td>\n",
       "      <td>1</td>\n",
       "      <td>0.26</td>\n",
       "      <td>0.2727</td>\n",
       "      <td>0.56</td>\n",
       "      <td>0.1343</td>\n",
       "    </tr>\n",
       "    <tr>\n",
       "      <th>5379</th>\n",
       "      <td>2012-12-31</td>\n",
       "      <td>1</td>\n",
       "      <td>1</td>\n",
       "      <td>12</td>\n",
       "      <td>23</td>\n",
       "      <td>0</td>\n",
       "      <td>1</td>\n",
       "      <td>1</td>\n",
       "      <td>1</td>\n",
       "      <td>0.26</td>\n",
       "      <td>0.2727</td>\n",
       "      <td>0.65</td>\n",
       "      <td>0.1343</td>\n",
       "    </tr>\n",
       "  </tbody>\n",
       "</table>\n",
       "</div>"
      ],
      "text/plain": [
       "         dteday  season  yr  mnth  hr  holiday  weekday  workingday  \\\n",
       "5375 2012-12-31       1   1    12  19        0        1           1   \n",
       "5376 2012-12-31       1   1    12  20        0        1           1   \n",
       "5377 2012-12-31       1   1    12  21        0        1           1   \n",
       "5378 2012-12-31       1   1    12  22        0        1           1   \n",
       "5379 2012-12-31       1   1    12  23        0        1           1   \n",
       "\n",
       "      weathersit  temp   atemp   hum  windspeed  \n",
       "5375           2  0.26  0.2576  0.60     0.1642  \n",
       "5376           2  0.26  0.2576  0.60     0.1642  \n",
       "5377           1  0.26  0.2576  0.60     0.1642  \n",
       "5378           1  0.26  0.2727  0.56     0.1343  \n",
       "5379           1  0.26  0.2727  0.65     0.1343  "
      ]
     },
     "execution_count": 13,
     "metadata": {},
     "output_type": "execute_result"
    }
   ],
   "source": [
    "bike_test.tail()"
   ]
  },
  {
   "cell_type": "markdown",
   "metadata": {},
   "source": [
    "#### * Los datos de bike_train abarca desde el 01/01/2011 al 20/05/2012 \n",
    "\n",
    "#### * Los datos de bike_test abarca desde el 20/05/2012 al 31/12/12"
   ]
  },
  {
   "cell_type": "markdown",
   "metadata": {},
   "source": [
    "#### Estadisticas descriptivas: "
   ]
  },
  {
   "cell_type": "code",
   "execution_count": 14,
   "metadata": {},
   "outputs": [
    {
     "data": {
      "text/html": [
       "<div>\n",
       "<style scoped>\n",
       "    .dataframe tbody tr th:only-of-type {\n",
       "        vertical-align: middle;\n",
       "    }\n",
       "\n",
       "    .dataframe tbody tr th {\n",
       "        vertical-align: top;\n",
       "    }\n",
       "\n",
       "    .dataframe thead th {\n",
       "        text-align: right;\n",
       "    }\n",
       "</style>\n",
       "<table border=\"1\" class=\"dataframe\">\n",
       "  <thead>\n",
       "    <tr style=\"text-align: right;\">\n",
       "      <th></th>\n",
       "      <th>season</th>\n",
       "      <th>yr</th>\n",
       "      <th>mnth</th>\n",
       "      <th>hr</th>\n",
       "      <th>holiday</th>\n",
       "      <th>weekday</th>\n",
       "      <th>workingday</th>\n",
       "      <th>weathersit</th>\n",
       "      <th>temp</th>\n",
       "      <th>atemp</th>\n",
       "      <th>hum</th>\n",
       "      <th>windspeed</th>\n",
       "      <th>cnt</th>\n",
       "    </tr>\n",
       "  </thead>\n",
       "  <tbody>\n",
       "    <tr>\n",
       "      <th>count</th>\n",
       "      <td>11999.000000</td>\n",
       "      <td>11999.000000</td>\n",
       "      <td>11999.000000</td>\n",
       "      <td>11999.000000</td>\n",
       "      <td>11999.000000</td>\n",
       "      <td>11999.000000</td>\n",
       "      <td>11999.000000</td>\n",
       "      <td>11999.000000</td>\n",
       "      <td>11999.000000</td>\n",
       "      <td>11999.000000</td>\n",
       "      <td>11999.000000</td>\n",
       "      <td>11999.000000</td>\n",
       "      <td>11999.000000</td>\n",
       "    </tr>\n",
       "    <tr>\n",
       "      <th>mean</th>\n",
       "      <td>2.210684</td>\n",
       "      <td>0.279523</td>\n",
       "      <td>5.530294</td>\n",
       "      <td>11.556630</td>\n",
       "      <td>0.027752</td>\n",
       "      <td>3.009334</td>\n",
       "      <td>0.684057</td>\n",
       "      <td>1.435036</td>\n",
       "      <td>0.465704</td>\n",
       "      <td>0.448888</td>\n",
       "      <td>0.625770</td>\n",
       "      <td>0.196433</td>\n",
       "      <td>158.594966</td>\n",
       "    </tr>\n",
       "    <tr>\n",
       "      <th>std</th>\n",
       "      <td>1.088798</td>\n",
       "      <td>0.448784</td>\n",
       "      <td>3.433005</td>\n",
       "      <td>6.911891</td>\n",
       "      <td>0.164269</td>\n",
       "      <td>2.005264</td>\n",
       "      <td>0.464910</td>\n",
       "      <td>0.650894</td>\n",
       "      <td>0.188576</td>\n",
       "      <td>0.169633</td>\n",
       "      <td>0.200637</td>\n",
       "      <td>0.125394</td>\n",
       "      <td>151.392952</td>\n",
       "    </tr>\n",
       "    <tr>\n",
       "      <th>min</th>\n",
       "      <td>1.000000</td>\n",
       "      <td>0.000000</td>\n",
       "      <td>1.000000</td>\n",
       "      <td>0.000000</td>\n",
       "      <td>0.000000</td>\n",
       "      <td>0.000000</td>\n",
       "      <td>0.000000</td>\n",
       "      <td>1.000000</td>\n",
       "      <td>0.020000</td>\n",
       "      <td>0.000000</td>\n",
       "      <td>0.000000</td>\n",
       "      <td>0.000000</td>\n",
       "      <td>1.000000</td>\n",
       "    </tr>\n",
       "    <tr>\n",
       "      <th>25%</th>\n",
       "      <td>1.000000</td>\n",
       "      <td>0.000000</td>\n",
       "      <td>3.000000</td>\n",
       "      <td>6.000000</td>\n",
       "      <td>0.000000</td>\n",
       "      <td>1.000000</td>\n",
       "      <td>0.000000</td>\n",
       "      <td>1.000000</td>\n",
       "      <td>0.320000</td>\n",
       "      <td>0.303000</td>\n",
       "      <td>0.470000</td>\n",
       "      <td>0.104500</td>\n",
       "      <td>34.000000</td>\n",
       "    </tr>\n",
       "    <tr>\n",
       "      <th>50%</th>\n",
       "      <td>2.000000</td>\n",
       "      <td>0.000000</td>\n",
       "      <td>5.000000</td>\n",
       "      <td>12.000000</td>\n",
       "      <td>0.000000</td>\n",
       "      <td>3.000000</td>\n",
       "      <td>1.000000</td>\n",
       "      <td>1.000000</td>\n",
       "      <td>0.460000</td>\n",
       "      <td>0.454500</td>\n",
       "      <td>0.620000</td>\n",
       "      <td>0.194000</td>\n",
       "      <td>118.000000</td>\n",
       "    </tr>\n",
       "    <tr>\n",
       "      <th>75%</th>\n",
       "      <td>3.000000</td>\n",
       "      <td>1.000000</td>\n",
       "      <td>8.000000</td>\n",
       "      <td>18.000000</td>\n",
       "      <td>0.000000</td>\n",
       "      <td>5.000000</td>\n",
       "      <td>1.000000</td>\n",
       "      <td>2.000000</td>\n",
       "      <td>0.620000</td>\n",
       "      <td>0.590900</td>\n",
       "      <td>0.790000</td>\n",
       "      <td>0.283600</td>\n",
       "      <td>232.000000</td>\n",
       "    </tr>\n",
       "    <tr>\n",
       "      <th>max</th>\n",
       "      <td>4.000000</td>\n",
       "      <td>1.000000</td>\n",
       "      <td>12.000000</td>\n",
       "      <td>23.000000</td>\n",
       "      <td>1.000000</td>\n",
       "      <td>6.000000</td>\n",
       "      <td>1.000000</td>\n",
       "      <td>4.000000</td>\n",
       "      <td>0.960000</td>\n",
       "      <td>1.000000</td>\n",
       "      <td>1.000000</td>\n",
       "      <td>0.850700</td>\n",
       "      <td>957.000000</td>\n",
       "    </tr>\n",
       "  </tbody>\n",
       "</table>\n",
       "</div>"
      ],
      "text/plain": [
       "             season            yr          mnth            hr       holiday  \\\n",
       "count  11999.000000  11999.000000  11999.000000  11999.000000  11999.000000   \n",
       "mean       2.210684      0.279523      5.530294     11.556630      0.027752   \n",
       "std        1.088798      0.448784      3.433005      6.911891      0.164269   \n",
       "min        1.000000      0.000000      1.000000      0.000000      0.000000   \n",
       "25%        1.000000      0.000000      3.000000      6.000000      0.000000   \n",
       "50%        2.000000      0.000000      5.000000     12.000000      0.000000   \n",
       "75%        3.000000      1.000000      8.000000     18.000000      0.000000   \n",
       "max        4.000000      1.000000     12.000000     23.000000      1.000000   \n",
       "\n",
       "            weekday    workingday    weathersit          temp         atemp  \\\n",
       "count  11999.000000  11999.000000  11999.000000  11999.000000  11999.000000   \n",
       "mean       3.009334      0.684057      1.435036      0.465704      0.448888   \n",
       "std        2.005264      0.464910      0.650894      0.188576      0.169633   \n",
       "min        0.000000      0.000000      1.000000      0.020000      0.000000   \n",
       "25%        1.000000      0.000000      1.000000      0.320000      0.303000   \n",
       "50%        3.000000      1.000000      1.000000      0.460000      0.454500   \n",
       "75%        5.000000      1.000000      2.000000      0.620000      0.590900   \n",
       "max        6.000000      1.000000      4.000000      0.960000      1.000000   \n",
       "\n",
       "                hum     windspeed           cnt  \n",
       "count  11999.000000  11999.000000  11999.000000  \n",
       "mean       0.625770      0.196433    158.594966  \n",
       "std        0.200637      0.125394    151.392952  \n",
       "min        0.000000      0.000000      1.000000  \n",
       "25%        0.470000      0.104500     34.000000  \n",
       "50%        0.620000      0.194000    118.000000  \n",
       "75%        0.790000      0.283600    232.000000  \n",
       "max        1.000000      0.850700    957.000000  "
      ]
     },
     "execution_count": 14,
     "metadata": {},
     "output_type": "execute_result"
    }
   ],
   "source": [
    "bike_train.describe()"
   ]
  },
  {
   "cell_type": "code",
   "execution_count": 15,
   "metadata": {},
   "outputs": [
    {
     "data": {
      "text/html": [
       "<div>\n",
       "<style scoped>\n",
       "    .dataframe tbody tr th:only-of-type {\n",
       "        vertical-align: middle;\n",
       "    }\n",
       "\n",
       "    .dataframe tbody tr th {\n",
       "        vertical-align: top;\n",
       "    }\n",
       "\n",
       "    .dataframe thead th {\n",
       "        text-align: right;\n",
       "    }\n",
       "</style>\n",
       "<table border=\"1\" class=\"dataframe\">\n",
       "  <thead>\n",
       "    <tr style=\"text-align: right;\">\n",
       "      <th></th>\n",
       "      <th>season</th>\n",
       "      <th>yr</th>\n",
       "      <th>mnth</th>\n",
       "      <th>hr</th>\n",
       "      <th>holiday</th>\n",
       "      <th>weekday</th>\n",
       "      <th>workingday</th>\n",
       "      <th>weathersit</th>\n",
       "      <th>temp</th>\n",
       "      <th>atemp</th>\n",
       "      <th>hum</th>\n",
       "      <th>windspeed</th>\n",
       "    </tr>\n",
       "  </thead>\n",
       "  <tbody>\n",
       "    <tr>\n",
       "      <th>count</th>\n",
       "      <td>5380.000000</td>\n",
       "      <td>5380.0</td>\n",
       "      <td>5380.000000</td>\n",
       "      <td>5380.000000</td>\n",
       "      <td>5380.000000</td>\n",
       "      <td>5380.000000</td>\n",
       "      <td>5380.00000</td>\n",
       "      <td>5380.000000</td>\n",
       "      <td>5380.000000</td>\n",
       "      <td>5380.000000</td>\n",
       "      <td>5380.000000</td>\n",
       "      <td>5380.000000</td>\n",
       "    </tr>\n",
       "    <tr>\n",
       "      <th>mean</th>\n",
       "      <td>3.150558</td>\n",
       "      <td>1.0</td>\n",
       "      <td>8.784758</td>\n",
       "      <td>11.524721</td>\n",
       "      <td>0.031041</td>\n",
       "      <td>2.991078</td>\n",
       "      <td>0.67974</td>\n",
       "      <td>1.403532</td>\n",
       "      <td>0.566758</td>\n",
       "      <td>0.535741</td>\n",
       "      <td>0.630483</td>\n",
       "      <td>0.175968</td>\n",
       "    </tr>\n",
       "    <tr>\n",
       "      <th>std</th>\n",
       "      <td>0.839184</td>\n",
       "      <td>0.0</td>\n",
       "      <td>2.145166</td>\n",
       "      <td>6.920601</td>\n",
       "      <td>0.173444</td>\n",
       "      <td>2.007032</td>\n",
       "      <td>0.46662</td>\n",
       "      <td>0.612343</td>\n",
       "      <td>0.182800</td>\n",
       "      <td>0.161300</td>\n",
       "      <td>0.174493</td>\n",
       "      <td>0.113988</td>\n",
       "    </tr>\n",
       "    <tr>\n",
       "      <th>min</th>\n",
       "      <td>1.000000</td>\n",
       "      <td>1.0</td>\n",
       "      <td>5.000000</td>\n",
       "      <td>0.000000</td>\n",
       "      <td>0.000000</td>\n",
       "      <td>0.000000</td>\n",
       "      <td>0.00000</td>\n",
       "      <td>1.000000</td>\n",
       "      <td>0.140000</td>\n",
       "      <td>0.151500</td>\n",
       "      <td>0.160000</td>\n",
       "      <td>0.000000</td>\n",
       "    </tr>\n",
       "    <tr>\n",
       "      <th>25%</th>\n",
       "      <td>3.000000</td>\n",
       "      <td>1.0</td>\n",
       "      <td>7.000000</td>\n",
       "      <td>6.000000</td>\n",
       "      <td>0.000000</td>\n",
       "      <td>1.000000</td>\n",
       "      <td>0.00000</td>\n",
       "      <td>1.000000</td>\n",
       "      <td>0.400000</td>\n",
       "      <td>0.409100</td>\n",
       "      <td>0.490000</td>\n",
       "      <td>0.104500</td>\n",
       "    </tr>\n",
       "    <tr>\n",
       "      <th>50%</th>\n",
       "      <td>3.000000</td>\n",
       "      <td>1.0</td>\n",
       "      <td>9.000000</td>\n",
       "      <td>12.000000</td>\n",
       "      <td>0.000000</td>\n",
       "      <td>3.000000</td>\n",
       "      <td>1.00000</td>\n",
       "      <td>1.000000</td>\n",
       "      <td>0.600000</td>\n",
       "      <td>0.575800</td>\n",
       "      <td>0.640000</td>\n",
       "      <td>0.164200</td>\n",
       "    </tr>\n",
       "    <tr>\n",
       "      <th>75%</th>\n",
       "      <td>4.000000</td>\n",
       "      <td>1.0</td>\n",
       "      <td>11.000000</td>\n",
       "      <td>18.000000</td>\n",
       "      <td>0.000000</td>\n",
       "      <td>5.000000</td>\n",
       "      <td>1.00000</td>\n",
       "      <td>2.000000</td>\n",
       "      <td>0.700000</td>\n",
       "      <td>0.666700</td>\n",
       "      <td>0.780000</td>\n",
       "      <td>0.253700</td>\n",
       "    </tr>\n",
       "    <tr>\n",
       "      <th>max</th>\n",
       "      <td>4.000000</td>\n",
       "      <td>1.0</td>\n",
       "      <td>12.000000</td>\n",
       "      <td>23.000000</td>\n",
       "      <td>1.000000</td>\n",
       "      <td>6.000000</td>\n",
       "      <td>1.00000</td>\n",
       "      <td>3.000000</td>\n",
       "      <td>1.000000</td>\n",
       "      <td>0.924200</td>\n",
       "      <td>1.000000</td>\n",
       "      <td>0.656700</td>\n",
       "    </tr>\n",
       "  </tbody>\n",
       "</table>\n",
       "</div>"
      ],
      "text/plain": [
       "            season      yr         mnth           hr      holiday  \\\n",
       "count  5380.000000  5380.0  5380.000000  5380.000000  5380.000000   \n",
       "mean      3.150558     1.0     8.784758    11.524721     0.031041   \n",
       "std       0.839184     0.0     2.145166     6.920601     0.173444   \n",
       "min       1.000000     1.0     5.000000     0.000000     0.000000   \n",
       "25%       3.000000     1.0     7.000000     6.000000     0.000000   \n",
       "50%       3.000000     1.0     9.000000    12.000000     0.000000   \n",
       "75%       4.000000     1.0    11.000000    18.000000     0.000000   \n",
       "max       4.000000     1.0    12.000000    23.000000     1.000000   \n",
       "\n",
       "           weekday  workingday   weathersit         temp        atemp  \\\n",
       "count  5380.000000  5380.00000  5380.000000  5380.000000  5380.000000   \n",
       "mean      2.991078     0.67974     1.403532     0.566758     0.535741   \n",
       "std       2.007032     0.46662     0.612343     0.182800     0.161300   \n",
       "min       0.000000     0.00000     1.000000     0.140000     0.151500   \n",
       "25%       1.000000     0.00000     1.000000     0.400000     0.409100   \n",
       "50%       3.000000     1.00000     1.000000     0.600000     0.575800   \n",
       "75%       5.000000     1.00000     2.000000     0.700000     0.666700   \n",
       "max       6.000000     1.00000     3.000000     1.000000     0.924200   \n",
       "\n",
       "               hum    windspeed  \n",
       "count  5380.000000  5380.000000  \n",
       "mean      0.630483     0.175968  \n",
       "std       0.174493     0.113988  \n",
       "min       0.160000     0.000000  \n",
       "25%       0.490000     0.104500  \n",
       "50%       0.640000     0.164200  \n",
       "75%       0.780000     0.253700  \n",
       "max       1.000000     0.656700  "
      ]
     },
     "execution_count": 15,
     "metadata": {},
     "output_type": "execute_result"
    }
   ],
   "source": [
    "bike_test.describe()"
   ]
  },
  {
   "cell_type": "markdown",
   "metadata": {},
   "source": [
    "### Correlación de los datos"
   ]
  },
  {
   "cell_type": "code",
   "execution_count": 16,
   "metadata": {},
   "outputs": [
    {
     "data": {
      "text/html": [
       "<div>\n",
       "<style scoped>\n",
       "    .dataframe tbody tr th:only-of-type {\n",
       "        vertical-align: middle;\n",
       "    }\n",
       "\n",
       "    .dataframe tbody tr th {\n",
       "        vertical-align: top;\n",
       "    }\n",
       "\n",
       "    .dataframe thead th {\n",
       "        text-align: right;\n",
       "    }\n",
       "</style>\n",
       "<table border=\"1\" class=\"dataframe\">\n",
       "  <thead>\n",
       "    <tr style=\"text-align: right;\">\n",
       "      <th></th>\n",
       "      <th>season</th>\n",
       "      <th>yr</th>\n",
       "      <th>mnth</th>\n",
       "      <th>hr</th>\n",
       "      <th>holiday</th>\n",
       "      <th>weekday</th>\n",
       "      <th>workingday</th>\n",
       "      <th>weathersit</th>\n",
       "      <th>temp</th>\n",
       "      <th>atemp</th>\n",
       "      <th>hum</th>\n",
       "      <th>windspeed</th>\n",
       "      <th>cnt</th>\n",
       "    </tr>\n",
       "  </thead>\n",
       "  <tbody>\n",
       "    <tr>\n",
       "      <th>season</th>\n",
       "      <td>1.000000</td>\n",
       "      <td>-0.446665</td>\n",
       "      <td>0.865268</td>\n",
       "      <td>-0.007610</td>\n",
       "      <td>-0.008928</td>\n",
       "      <td>-0.003688</td>\n",
       "      <td>0.012630</td>\n",
       "      <td>-0.009029</td>\n",
       "      <td>0.410790</td>\n",
       "      <td>0.413196</td>\n",
       "      <td>0.198937</td>\n",
       "      <td>-0.142924</td>\n",
       "      <td>0.111369</td>\n",
       "    </tr>\n",
       "    <tr>\n",
       "      <th>yr</th>\n",
       "      <td>-0.446665</td>\n",
       "      <td>1.000000</td>\n",
       "      <td>-0.488103</td>\n",
       "      <td>-0.003948</td>\n",
       "      <td>0.001039</td>\n",
       "      <td>-0.002714</td>\n",
       "      <td>0.001068</td>\n",
       "      <td>-0.006309</td>\n",
       "      <td>-0.198929</td>\n",
       "      <td>-0.190360</td>\n",
       "      <td>-0.141319</td>\n",
       "      <td>0.067356</td>\n",
       "      <td>0.156960</td>\n",
       "    </tr>\n",
       "    <tr>\n",
       "      <th>mnth</th>\n",
       "      <td>0.865268</td>\n",
       "      <td>-0.488103</td>\n",
       "      <td>1.000000</td>\n",
       "      <td>-0.007060</td>\n",
       "      <td>0.009372</td>\n",
       "      <td>0.014500</td>\n",
       "      <td>0.006441</td>\n",
       "      <td>-0.012239</td>\n",
       "      <td>0.353330</td>\n",
       "      <td>0.358541</td>\n",
       "      <td>0.201669</td>\n",
       "      <td>-0.147042</td>\n",
       "      <td>0.073431</td>\n",
       "    </tr>\n",
       "    <tr>\n",
       "      <th>hr</th>\n",
       "      <td>-0.007610</td>\n",
       "      <td>-0.003948</td>\n",
       "      <td>-0.007060</td>\n",
       "      <td>1.000000</td>\n",
       "      <td>0.000414</td>\n",
       "      <td>-0.004037</td>\n",
       "      <td>0.003454</td>\n",
       "      <td>-0.024003</td>\n",
       "      <td>0.139251</td>\n",
       "      <td>0.134633</td>\n",
       "      <td>-0.257202</td>\n",
       "      <td>0.130441</td>\n",
       "      <td>0.396698</td>\n",
       "    </tr>\n",
       "    <tr>\n",
       "      <th>holiday</th>\n",
       "      <td>-0.008928</td>\n",
       "      <td>0.001039</td>\n",
       "      <td>0.009372</td>\n",
       "      <td>0.000414</td>\n",
       "      <td>1.000000</td>\n",
       "      <td>-0.102503</td>\n",
       "      <td>-0.248601</td>\n",
       "      <td>-0.014707</td>\n",
       "      <td>-0.028519</td>\n",
       "      <td>-0.038005</td>\n",
       "      <td>-0.036672</td>\n",
       "      <td>0.022681</td>\n",
       "      <td>-0.030304</td>\n",
       "    </tr>\n",
       "    <tr>\n",
       "      <th>weekday</th>\n",
       "      <td>-0.003688</td>\n",
       "      <td>-0.002714</td>\n",
       "      <td>0.014500</td>\n",
       "      <td>-0.004037</td>\n",
       "      <td>-0.102503</td>\n",
       "      <td>1.000000</td>\n",
       "      <td>0.031057</td>\n",
       "      <td>0.017259</td>\n",
       "      <td>-0.010002</td>\n",
       "      <td>-0.009841</td>\n",
       "      <td>-0.025932</td>\n",
       "      <td>0.008447</td>\n",
       "      <td>0.022618</td>\n",
       "    </tr>\n",
       "    <tr>\n",
       "      <th>workingday</th>\n",
       "      <td>0.012630</td>\n",
       "      <td>0.001068</td>\n",
       "      <td>0.006441</td>\n",
       "      <td>0.003454</td>\n",
       "      <td>-0.248601</td>\n",
       "      <td>0.031057</td>\n",
       "      <td>1.000000</td>\n",
       "      <td>0.042202</td>\n",
       "      <td>0.062273</td>\n",
       "      <td>0.066305</td>\n",
       "      <td>0.022805</td>\n",
       "      <td>-0.002493</td>\n",
       "      <td>0.025132</td>\n",
       "    </tr>\n",
       "    <tr>\n",
       "      <th>weathersit</th>\n",
       "      <td>-0.009029</td>\n",
       "      <td>-0.006309</td>\n",
       "      <td>-0.012239</td>\n",
       "      <td>-0.024003</td>\n",
       "      <td>-0.014707</td>\n",
       "      <td>0.017259</td>\n",
       "      <td>0.042202</td>\n",
       "      <td>1.000000</td>\n",
       "      <td>-0.080149</td>\n",
       "      <td>-0.081386</td>\n",
       "      <td>0.430378</td>\n",
       "      <td>0.009195</td>\n",
       "      <td>-0.149848</td>\n",
       "    </tr>\n",
       "    <tr>\n",
       "      <th>temp</th>\n",
       "      <td>0.410790</td>\n",
       "      <td>-0.198929</td>\n",
       "      <td>0.353330</td>\n",
       "      <td>0.139251</td>\n",
       "      <td>-0.028519</td>\n",
       "      <td>-0.010002</td>\n",
       "      <td>0.062273</td>\n",
       "      <td>-0.080149</td>\n",
       "      <td>1.000000</td>\n",
       "      <td>0.991785</td>\n",
       "      <td>-0.019289</td>\n",
       "      <td>-0.013984</td>\n",
       "      <td>0.395743</td>\n",
       "    </tr>\n",
       "    <tr>\n",
       "      <th>atemp</th>\n",
       "      <td>0.413196</td>\n",
       "      <td>-0.190360</td>\n",
       "      <td>0.358541</td>\n",
       "      <td>0.134633</td>\n",
       "      <td>-0.038005</td>\n",
       "      <td>-0.009841</td>\n",
       "      <td>0.066305</td>\n",
       "      <td>-0.081386</td>\n",
       "      <td>0.991785</td>\n",
       "      <td>1.000000</td>\n",
       "      <td>-0.003669</td>\n",
       "      <td>-0.057619</td>\n",
       "      <td>0.395234</td>\n",
       "    </tr>\n",
       "    <tr>\n",
       "      <th>hum</th>\n",
       "      <td>0.198937</td>\n",
       "      <td>-0.141319</td>\n",
       "      <td>0.201669</td>\n",
       "      <td>-0.257202</td>\n",
       "      <td>-0.036672</td>\n",
       "      <td>-0.025932</td>\n",
       "      <td>0.022805</td>\n",
       "      <td>0.430378</td>\n",
       "      <td>-0.019289</td>\n",
       "      <td>-0.003669</td>\n",
       "      <td>1.000000</td>\n",
       "      <td>-0.295765</td>\n",
       "      <td>-0.303672</td>\n",
       "    </tr>\n",
       "    <tr>\n",
       "      <th>windspeed</th>\n",
       "      <td>-0.142924</td>\n",
       "      <td>0.067356</td>\n",
       "      <td>-0.147042</td>\n",
       "      <td>0.130441</td>\n",
       "      <td>0.022681</td>\n",
       "      <td>0.008447</td>\n",
       "      <td>-0.002493</td>\n",
       "      <td>0.009195</td>\n",
       "      <td>-0.013984</td>\n",
       "      <td>-0.057619</td>\n",
       "      <td>-0.295765</td>\n",
       "      <td>1.000000</td>\n",
       "      <td>0.094791</td>\n",
       "    </tr>\n",
       "    <tr>\n",
       "      <th>cnt</th>\n",
       "      <td>0.111369</td>\n",
       "      <td>0.156960</td>\n",
       "      <td>0.073431</td>\n",
       "      <td>0.396698</td>\n",
       "      <td>-0.030304</td>\n",
       "      <td>0.022618</td>\n",
       "      <td>0.025132</td>\n",
       "      <td>-0.149848</td>\n",
       "      <td>0.395743</td>\n",
       "      <td>0.395234</td>\n",
       "      <td>-0.303672</td>\n",
       "      <td>0.094791</td>\n",
       "      <td>1.000000</td>\n",
       "    </tr>\n",
       "  </tbody>\n",
       "</table>\n",
       "</div>"
      ],
      "text/plain": [
       "              season        yr      mnth        hr   holiday   weekday  \\\n",
       "season      1.000000 -0.446665  0.865268 -0.007610 -0.008928 -0.003688   \n",
       "yr         -0.446665  1.000000 -0.488103 -0.003948  0.001039 -0.002714   \n",
       "mnth        0.865268 -0.488103  1.000000 -0.007060  0.009372  0.014500   \n",
       "hr         -0.007610 -0.003948 -0.007060  1.000000  0.000414 -0.004037   \n",
       "holiday    -0.008928  0.001039  0.009372  0.000414  1.000000 -0.102503   \n",
       "weekday    -0.003688 -0.002714  0.014500 -0.004037 -0.102503  1.000000   \n",
       "workingday  0.012630  0.001068  0.006441  0.003454 -0.248601  0.031057   \n",
       "weathersit -0.009029 -0.006309 -0.012239 -0.024003 -0.014707  0.017259   \n",
       "temp        0.410790 -0.198929  0.353330  0.139251 -0.028519 -0.010002   \n",
       "atemp       0.413196 -0.190360  0.358541  0.134633 -0.038005 -0.009841   \n",
       "hum         0.198937 -0.141319  0.201669 -0.257202 -0.036672 -0.025932   \n",
       "windspeed  -0.142924  0.067356 -0.147042  0.130441  0.022681  0.008447   \n",
       "cnt         0.111369  0.156960  0.073431  0.396698 -0.030304  0.022618   \n",
       "\n",
       "            workingday  weathersit      temp     atemp       hum  windspeed  \\\n",
       "season        0.012630   -0.009029  0.410790  0.413196  0.198937  -0.142924   \n",
       "yr            0.001068   -0.006309 -0.198929 -0.190360 -0.141319   0.067356   \n",
       "mnth          0.006441   -0.012239  0.353330  0.358541  0.201669  -0.147042   \n",
       "hr            0.003454   -0.024003  0.139251  0.134633 -0.257202   0.130441   \n",
       "holiday      -0.248601   -0.014707 -0.028519 -0.038005 -0.036672   0.022681   \n",
       "weekday       0.031057    0.017259 -0.010002 -0.009841 -0.025932   0.008447   \n",
       "workingday    1.000000    0.042202  0.062273  0.066305  0.022805  -0.002493   \n",
       "weathersit    0.042202    1.000000 -0.080149 -0.081386  0.430378   0.009195   \n",
       "temp          0.062273   -0.080149  1.000000  0.991785 -0.019289  -0.013984   \n",
       "atemp         0.066305   -0.081386  0.991785  1.000000 -0.003669  -0.057619   \n",
       "hum           0.022805    0.430378 -0.019289 -0.003669  1.000000  -0.295765   \n",
       "windspeed    -0.002493    0.009195 -0.013984 -0.057619 -0.295765   1.000000   \n",
       "cnt           0.025132   -0.149848  0.395743  0.395234 -0.303672   0.094791   \n",
       "\n",
       "                 cnt  \n",
       "season      0.111369  \n",
       "yr          0.156960  \n",
       "mnth        0.073431  \n",
       "hr          0.396698  \n",
       "holiday    -0.030304  \n",
       "weekday     0.022618  \n",
       "workingday  0.025132  \n",
       "weathersit -0.149848  \n",
       "temp        0.395743  \n",
       "atemp       0.395234  \n",
       "hum        -0.303672  \n",
       "windspeed   0.094791  \n",
       "cnt         1.000000  "
      ]
     },
     "execution_count": 16,
     "metadata": {},
     "output_type": "execute_result"
    }
   ],
   "source": [
    "#calcular la correlacion entre las variables de bike_train\n",
    "bike_train.corr()"
   ]
  },
  {
   "cell_type": "code",
   "execution_count": 17,
   "metadata": {},
   "outputs": [
    {
     "data": {
      "text/plain": [
       "season      season       1.000000\n",
       "temp        atemp        0.991785\n",
       "mnth        season       0.865268\n",
       "yr          mnth         0.488103\n",
       "            season       0.446665\n",
       "                           ...   \n",
       "            weekday      0.002714\n",
       "workingday  windspeed    0.002493\n",
       "            yr           0.001068\n",
       "holiday     yr           0.001039\n",
       "hr          holiday      0.000414\n",
       "Length: 79, dtype: float64"
      ]
     },
     "execution_count": 17,
     "metadata": {},
     "output_type": "execute_result"
    }
   ],
   "source": [
    "#ordenar de mayor a menor correlacion\n",
    "bike_train.corr().abs().unstack().sort_values(ascending=False).drop_duplicates()"
   ]
  },
  {
   "cell_type": "code",
   "execution_count": 18,
   "metadata": {},
   "outputs": [
    {
     "data": {
      "text/plain": [
       "cnt           1.000000\n",
       "hr            0.396698\n",
       "temp          0.395743\n",
       "atemp         0.395234\n",
       "hum           0.303672\n",
       "yr            0.156960\n",
       "weathersit    0.149848\n",
       "season        0.111369\n",
       "windspeed     0.094791\n",
       "mnth          0.073431\n",
       "holiday       0.030304\n",
       "workingday    0.025132\n",
       "weekday       0.022618\n",
       "Name: cnt, dtype: float64"
      ]
     },
     "execution_count": 18,
     "metadata": {},
     "output_type": "execute_result"
    }
   ],
   "source": [
    "#ordenar las correlaciones de cn de mayor a menor\n",
    "bike_train.corr().abs()['cnt'].sort_values(ascending=False)"
   ]
  },
  {
   "cell_type": "code",
   "execution_count": 19,
   "metadata": {},
   "outputs": [
    {
     "data": {
      "text/html": [
       "<div>\n",
       "<style scoped>\n",
       "    .dataframe tbody tr th:only-of-type {\n",
       "        vertical-align: middle;\n",
       "    }\n",
       "\n",
       "    .dataframe tbody tr th {\n",
       "        vertical-align: top;\n",
       "    }\n",
       "\n",
       "    .dataframe thead th {\n",
       "        text-align: right;\n",
       "    }\n",
       "</style>\n",
       "<table border=\"1\" class=\"dataframe\">\n",
       "  <thead>\n",
       "    <tr style=\"text-align: right;\">\n",
       "      <th></th>\n",
       "      <th>season</th>\n",
       "      <th>yr</th>\n",
       "      <th>mnth</th>\n",
       "      <th>hr</th>\n",
       "      <th>holiday</th>\n",
       "      <th>weekday</th>\n",
       "      <th>workingday</th>\n",
       "      <th>weathersit</th>\n",
       "      <th>temp</th>\n",
       "      <th>atemp</th>\n",
       "      <th>hum</th>\n",
       "      <th>windspeed</th>\n",
       "    </tr>\n",
       "  </thead>\n",
       "  <tbody>\n",
       "    <tr>\n",
       "      <th>season</th>\n",
       "      <td>1.000000</td>\n",
       "      <td>NaN</td>\n",
       "      <td>0.491815</td>\n",
       "      <td>-0.000481</td>\n",
       "      <td>-0.029560</td>\n",
       "      <td>0.007752</td>\n",
       "      <td>0.029156</td>\n",
       "      <td>0.002945</td>\n",
       "      <td>-0.253303</td>\n",
       "      <td>-0.223972</td>\n",
       "      <td>0.026825</td>\n",
       "      <td>-0.091152</td>\n",
       "    </tr>\n",
       "    <tr>\n",
       "      <th>yr</th>\n",
       "      <td>NaN</td>\n",
       "      <td>NaN</td>\n",
       "      <td>NaN</td>\n",
       "      <td>NaN</td>\n",
       "      <td>NaN</td>\n",
       "      <td>NaN</td>\n",
       "      <td>NaN</td>\n",
       "      <td>NaN</td>\n",
       "      <td>NaN</td>\n",
       "      <td>NaN</td>\n",
       "      <td>NaN</td>\n",
       "      <td>NaN</td>\n",
       "    </tr>\n",
       "    <tr>\n",
       "      <th>mnth</th>\n",
       "      <td>0.491815</td>\n",
       "      <td>NaN</td>\n",
       "      <td>1.000000</td>\n",
       "      <td>0.000133</td>\n",
       "      <td>0.040445</td>\n",
       "      <td>0.011644</td>\n",
       "      <td>-0.031176</td>\n",
       "      <td>0.129539</td>\n",
       "      <td>-0.779969</td>\n",
       "      <td>-0.761877</td>\n",
       "      <td>0.085406</td>\n",
       "      <td>0.012960</td>\n",
       "    </tr>\n",
       "    <tr>\n",
       "      <th>hr</th>\n",
       "      <td>-0.000481</td>\n",
       "      <td>NaN</td>\n",
       "      <td>0.000133</td>\n",
       "      <td>1.000000</td>\n",
       "      <td>0.000677</td>\n",
       "      <td>-0.002326</td>\n",
       "      <td>-0.000340</td>\n",
       "      <td>-0.011413</td>\n",
       "      <td>0.149610</td>\n",
       "      <td>0.146253</td>\n",
       "      <td>-0.327878</td>\n",
       "      <td>0.155250</td>\n",
       "    </tr>\n",
       "    <tr>\n",
       "      <th>holiday</th>\n",
       "      <td>-0.029560</td>\n",
       "      <td>NaN</td>\n",
       "      <td>0.040445</td>\n",
       "      <td>0.000677</td>\n",
       "      <td>1.000000</td>\n",
       "      <td>-0.101208</td>\n",
       "      <td>-0.260756</td>\n",
       "      <td>-0.021687</td>\n",
       "      <td>-0.034763</td>\n",
       "      <td>-0.025364</td>\n",
       "      <td>0.052270</td>\n",
       "      <td>-0.037032</td>\n",
       "    </tr>\n",
       "    <tr>\n",
       "      <th>weekday</th>\n",
       "      <td>0.007752</td>\n",
       "      <td>NaN</td>\n",
       "      <td>0.011644</td>\n",
       "      <td>-0.002326</td>\n",
       "      <td>-0.101208</td>\n",
       "      <td>1.000000</td>\n",
       "      <td>0.046774</td>\n",
       "      <td>-0.030047</td>\n",
       "      <td>0.020362</td>\n",
       "      <td>-0.003897</td>\n",
       "      <td>-0.066030</td>\n",
       "      <td>0.018021</td>\n",
       "    </tr>\n",
       "    <tr>\n",
       "      <th>workingday</th>\n",
       "      <td>0.029156</td>\n",
       "      <td>NaN</td>\n",
       "      <td>-0.031176</td>\n",
       "      <td>-0.000340</td>\n",
       "      <td>-0.260756</td>\n",
       "      <td>0.046774</td>\n",
       "      <td>1.000000</td>\n",
       "      <td>0.050285</td>\n",
       "      <td>0.048787</td>\n",
       "      <td>0.036161</td>\n",
       "      <td>-0.002209</td>\n",
       "      <td>-0.035967</td>\n",
       "    </tr>\n",
       "    <tr>\n",
       "      <th>weathersit</th>\n",
       "      <td>0.002945</td>\n",
       "      <td>NaN</td>\n",
       "      <td>0.129539</td>\n",
       "      <td>-0.011413</td>\n",
       "      <td>-0.021687</td>\n",
       "      <td>-0.030047</td>\n",
       "      <td>0.050285</td>\n",
       "      <td>1.000000</td>\n",
       "      <td>-0.149031</td>\n",
       "      <td>-0.157319</td>\n",
       "      <td>0.387148</td>\n",
       "      <td>0.064587</td>\n",
       "    </tr>\n",
       "    <tr>\n",
       "      <th>temp</th>\n",
       "      <td>-0.253303</td>\n",
       "      <td>NaN</td>\n",
       "      <td>-0.779969</td>\n",
       "      <td>0.149610</td>\n",
       "      <td>-0.034763</td>\n",
       "      <td>0.020362</td>\n",
       "      <td>0.048787</td>\n",
       "      <td>-0.149031</td>\n",
       "      <td>1.000000</td>\n",
       "      <td>0.975469</td>\n",
       "      <td>-0.222222</td>\n",
       "      <td>0.019468</td>\n",
       "    </tr>\n",
       "    <tr>\n",
       "      <th>atemp</th>\n",
       "      <td>-0.223972</td>\n",
       "      <td>NaN</td>\n",
       "      <td>-0.761877</td>\n",
       "      <td>0.146253</td>\n",
       "      <td>-0.025364</td>\n",
       "      <td>-0.003897</td>\n",
       "      <td>0.036161</td>\n",
       "      <td>-0.157319</td>\n",
       "      <td>0.975469</td>\n",
       "      <td>1.000000</td>\n",
       "      <td>-0.197731</td>\n",
       "      <td>-0.014842</td>\n",
       "    </tr>\n",
       "    <tr>\n",
       "      <th>hum</th>\n",
       "      <td>0.026825</td>\n",
       "      <td>NaN</td>\n",
       "      <td>0.085406</td>\n",
       "      <td>-0.327878</td>\n",
       "      <td>0.052270</td>\n",
       "      <td>-0.066030</td>\n",
       "      <td>-0.002209</td>\n",
       "      <td>0.387148</td>\n",
       "      <td>-0.222222</td>\n",
       "      <td>-0.197731</td>\n",
       "      <td>1.000000</td>\n",
       "      <td>-0.274399</td>\n",
       "    </tr>\n",
       "    <tr>\n",
       "      <th>windspeed</th>\n",
       "      <td>-0.091152</td>\n",
       "      <td>NaN</td>\n",
       "      <td>0.012960</td>\n",
       "      <td>0.155250</td>\n",
       "      <td>-0.037032</td>\n",
       "      <td>0.018021</td>\n",
       "      <td>-0.035967</td>\n",
       "      <td>0.064587</td>\n",
       "      <td>0.019468</td>\n",
       "      <td>-0.014842</td>\n",
       "      <td>-0.274399</td>\n",
       "      <td>1.000000</td>\n",
       "    </tr>\n",
       "  </tbody>\n",
       "</table>\n",
       "</div>"
      ],
      "text/plain": [
       "              season  yr      mnth        hr   holiday   weekday  workingday  \\\n",
       "season      1.000000 NaN  0.491815 -0.000481 -0.029560  0.007752    0.029156   \n",
       "yr               NaN NaN       NaN       NaN       NaN       NaN         NaN   \n",
       "mnth        0.491815 NaN  1.000000  0.000133  0.040445  0.011644   -0.031176   \n",
       "hr         -0.000481 NaN  0.000133  1.000000  0.000677 -0.002326   -0.000340   \n",
       "holiday    -0.029560 NaN  0.040445  0.000677  1.000000 -0.101208   -0.260756   \n",
       "weekday     0.007752 NaN  0.011644 -0.002326 -0.101208  1.000000    0.046774   \n",
       "workingday  0.029156 NaN -0.031176 -0.000340 -0.260756  0.046774    1.000000   \n",
       "weathersit  0.002945 NaN  0.129539 -0.011413 -0.021687 -0.030047    0.050285   \n",
       "temp       -0.253303 NaN -0.779969  0.149610 -0.034763  0.020362    0.048787   \n",
       "atemp      -0.223972 NaN -0.761877  0.146253 -0.025364 -0.003897    0.036161   \n",
       "hum         0.026825 NaN  0.085406 -0.327878  0.052270 -0.066030   -0.002209   \n",
       "windspeed  -0.091152 NaN  0.012960  0.155250 -0.037032  0.018021   -0.035967   \n",
       "\n",
       "            weathersit      temp     atemp       hum  windspeed  \n",
       "season        0.002945 -0.253303 -0.223972  0.026825  -0.091152  \n",
       "yr                 NaN       NaN       NaN       NaN        NaN  \n",
       "mnth          0.129539 -0.779969 -0.761877  0.085406   0.012960  \n",
       "hr           -0.011413  0.149610  0.146253 -0.327878   0.155250  \n",
       "holiday      -0.021687 -0.034763 -0.025364  0.052270  -0.037032  \n",
       "weekday      -0.030047  0.020362 -0.003897 -0.066030   0.018021  \n",
       "workingday    0.050285  0.048787  0.036161 -0.002209  -0.035967  \n",
       "weathersit    1.000000 -0.149031 -0.157319  0.387148   0.064587  \n",
       "temp         -0.149031  1.000000  0.975469 -0.222222   0.019468  \n",
       "atemp        -0.157319  0.975469  1.000000 -0.197731  -0.014842  \n",
       "hum           0.387148 -0.222222 -0.197731  1.000000  -0.274399  \n",
       "windspeed     0.064587  0.019468 -0.014842 -0.274399   1.000000  "
      ]
     },
     "execution_count": 19,
     "metadata": {},
     "output_type": "execute_result"
    }
   ],
   "source": [
    "#calcular la correlacion entre las variables de bike_test\n",
    "bike_test.corr()"
   ]
  },
  {
   "cell_type": "code",
   "execution_count": 20,
   "metadata": {},
   "outputs": [
    {
     "data": {
      "text/plain": [
       "season      season        1.000000\n",
       "temp        atemp         0.975469\n",
       "mnth        temp          0.779969\n",
       "atemp       mnth          0.761877\n",
       "mnth        season        0.491815\n",
       "hum         weathersit    0.387148\n",
       "hr          hum           0.327878\n",
       "hum         windspeed     0.274399\n",
       "holiday     workingday    0.260756\n",
       "season      temp          0.253303\n",
       "atemp       season        0.223972\n",
       "hum         temp          0.222222\n",
       "            atemp         0.197731\n",
       "atemp       weathersit    0.157319\n",
       "hr          windspeed     0.155250\n",
       "            temp          0.149610\n",
       "weathersit  temp          0.149031\n",
       "hr          atemp         0.146253\n",
       "weathersit  mnth          0.129539\n",
       "holiday     weekday       0.101208\n",
       "windspeed   season        0.091152\n",
       "hum         mnth          0.085406\n",
       "            weekday       0.066030\n",
       "windspeed   weathersit    0.064587\n",
       "holiday     hum           0.052270\n",
       "workingday  weathersit    0.050285\n",
       "            temp          0.048787\n",
       "weekday     workingday    0.046774\n",
       "mnth        holiday       0.040445\n",
       "holiday     windspeed     0.037032\n",
       "workingday  atemp         0.036161\n",
       "windspeed   workingday    0.035967\n",
       "holiday     temp          0.034763\n",
       "mnth        workingday    0.031176\n",
       "weathersit  weekday       0.030047\n",
       "season      holiday       0.029560\n",
       "workingday  season        0.029156\n",
       "hum         season        0.026825\n",
       "holiday     atemp         0.025364\n",
       "weathersit  holiday       0.021687\n",
       "weekday     temp          0.020362\n",
       "temp        windspeed     0.019468\n",
       "windspeed   weekday       0.018021\n",
       "            atemp         0.014842\n",
       "mnth        windspeed     0.012960\n",
       "            weekday       0.011644\n",
       "hr          weathersit    0.011413\n",
       "weekday     season        0.007752\n",
       "atemp       weekday       0.003897\n",
       "weathersit  season        0.002945\n",
       "weekday     hr            0.002326\n",
       "workingday  hum           0.002209\n",
       "hr          holiday       0.000677\n",
       "            season        0.000481\n",
       "            workingday    0.000340\n",
       "mnth        hr            0.000133\n",
       "season      yr                 NaN\n",
       "dtype: float64"
      ]
     },
     "execution_count": 20,
     "metadata": {},
     "output_type": "execute_result"
    }
   ],
   "source": [
    "#ordenar de mayor a menor correlacion en la tabla bike_test\n",
    "bike_test.corr().abs().unstack().sort_values(ascending=False).drop_duplicates()"
   ]
  },
  {
   "cell_type": "code",
   "execution_count": 21,
   "metadata": {},
   "outputs": [
    {
     "data": {
      "image/png": "[encoded data removed]",
      "text/plain": [
       "<Figure size 800x800 with 2 Axes>"
      ]
     },
     "metadata": {},
     "output_type": "display_data"
    }
   ],
   "source": [
    "#mapa de calor\n",
    "plt.figure(figsize=(8,8))\n",
    "sns.heatmap(bike_train.corr(),annot=True,fmt='.1f')\n",
    "plt.show()"
   ]
  },
  {
   "cell_type": "code",
   "execution_count": 22,
   "metadata": {},
   "outputs": [
    {
     "data": {
      "image/png": "[encoded data removed]",
      "text/plain": [
       "<Figure size 800x800 with 2 Axes>"
      ]
     },
     "metadata": {},
     "output_type": "display_data"
    }
   ],
   "source": [
    "#mapa de calor de bike_test\n",
    "plt.figure(figsize=(8,8))\n",
    "sns.heatmap(bike_test.corr(),annot=True,fmt='.1f')\n",
    "plt.show()"
   ]
  },
  {
   "cell_type": "markdown",
   "metadata": {},
   "source": [
    "### Graficas de cnt por las features que mas se correlacionan."
   ]
  },
  {
   "cell_type": "code",
   "execution_count": 23,
   "metadata": {},
   "outputs": [
    {
     "data": {
      "image/png": "[encoded data removed]",
      "text/plain": [
       "<Figure size 500x500 with 1 Axes>"
      ]
     },
     "metadata": {},
     "output_type": "display_data"
    }
   ],
   "source": [
    "#graficar cnt por hr\n",
    "plt.figure(figsize=(5,5))\n",
    "sns.barplot(x='hr',y='cnt',data=bike_train)\n",
    "plt.show()"
   ]
  },
  {
   "cell_type": "markdown",
   "metadata": {},
   "source": [
    "#### Observaciones:\n",
    "* Durante la noche entre las 23 y 6 de la mañana hay muy pocos alquileres.\n",
    "* Los mayores picos se encuentran a la mañana, 8 hs. (ingreso laboral) y por la tarde: 17/18 hs. (fin del horario laboral)"
   ]
  },
  {
   "cell_type": "code",
   "execution_count": 24,
   "metadata": {},
   "outputs": [
    {
     "data": {
      "image/png": "[encoded data removed]",
      "text/plain": [
       "<Figure size 2000x500 with 1 Axes>"
      ]
     },
     "metadata": {},
     "output_type": "display_data"
    }
   ],
   "source": [
    "#graficar cnt por temp \n",
    "plt.figure(figsize=(20,5))\n",
    "sns.barplot(x='temp',y='cnt',data=bike_train)\n",
    "plt.show()\n"
   ]
  },
  {
   "cell_type": "markdown",
   "metadata": {},
   "source": [
    "### Observaciones:\n",
    "* a medida que aumenta la temperatura, aumenta el alquiler de bicicletas.\n",
    "* con bajas temperaturas hay menor alquiler, al igual que cuando la temperatura es muy alta, empieza a descender los alquileres.\n",
    "* el máximo contemplado en los datos son 40 grados = 1."
   ]
  },
  {
   "cell_type": "code",
   "execution_count": 25,
   "metadata": {},
   "outputs": [],
   "source": [
    "# se va a redondear la columna atemp a 2 decimales para poder graficar con mas claridad\n",
    "bike_train['atemp'] = bike_train['atemp'].round(2)\n",
    "bike_test['atemp'] = bike_test['atemp'].round(2)"
   ]
  },
  {
   "cell_type": "code",
   "execution_count": 26,
   "metadata": {},
   "outputs": [
    {
     "data": {
      "image/png": "[encoded data removed]",
      "text/plain": [
       "<Figure size 2000x500 with 1 Axes>"
      ]
     },
     "metadata": {},
     "output_type": "display_data"
    }
   ],
   "source": [
    "#graficar cnt por atemp\n",
    "plt.figure(figsize=(20,5))\n",
    "sns.barplot(x='atemp',y='cnt',data=bike_train)\n",
    "plt.show()"
   ]
  },
  {
   "cell_type": "markdown",
   "metadata": {},
   "source": [
    "#### Observaciones: \n",
    "* La sensación térmica, es la percepción subjetiva de cada persona tiene de la temperatura. Este índice varía según una serie de factores que involucran a la humedad y el viento, entre otras. \n",
    "* En los datos la sensación térmica se encuentra normalizada, y la temperatura máxima considerada en 50°C = 1\n",
    "* En lineas generales sigue el mismo patrón que el gráfico de temperatura."
   ]
  },
  {
   "cell_type": "code",
   "execution_count": 27,
   "metadata": {},
   "outputs": [
    {
     "data": {
      "image/png": "[encoded data removed]",
      "text/plain": [
       "<Figure size 2000x500 with 1 Axes>"
      ]
     },
     "metadata": {},
     "output_type": "display_data"
    }
   ],
   "source": [
    "# graficar cnt por hum\n",
    "plt.figure(figsize=(20,5))\n",
    "sns.barplot(x='hum',y='cnt',data=bike_train)\n",
    "plt.show()"
   ]
  },
  {
   "cell_type": "markdown",
   "metadata": {},
   "source": [
    "##### Observaciones: \n",
    "\n",
    "* El nivel de humedad se encuentra normalizada, un 100% de humedad (dia de lluvia) = 1\n",
    "* Se alquila mas bicicletas en los días de baja humedad.\n",
    "* A medida que aumenta la humedad desciende el número de alquileres."
   ]
  },
  {
   "cell_type": "code",
   "execution_count": 28,
   "metadata": {},
   "outputs": [],
   "source": [
    "# redondear la columna wihdspeed a 2 decimales para poder graficar con mas claridad\n",
    "bike_train['windspeed'] = bike_train['windspeed'].round(2)"
   ]
  },
  {
   "cell_type": "code",
   "execution_count": 29,
   "metadata": {},
   "outputs": [
    {
     "data": {
      "image/png": "[encoded data removed]",
      "text/plain": [
       "<Figure size 2000x500 with 1 Axes>"
      ]
     },
     "metadata": {},
     "output_type": "display_data"
    }
   ],
   "source": [
    "#graficar cnt por windspeed\n",
    "plt.figure(figsize=(20,5))\n",
    "sns.barplot(x='windspeed',y='cnt',data=bike_train)\n",
    "plt.show()"
   ]
  },
  {
   "cell_type": "markdown",
   "metadata": {},
   "source": [
    "#### Observaciones:\n",
    "* La velocidad del viento se encuentra normalizada, 1 corresponde a 67 km/h\n",
    "* hay un pico en 0.85, lo que corresponde a 57 km/h aproximadamente, si los vientos muy fuertes oscilan entre 50 y 61 km/h con dificultad en la marcha personal contra el viento, resulta dificil que en esas condicones climáticas haya habido tanto alquiler de rodados."
   ]
  },
  {
   "cell_type": "code",
   "execution_count": 30,
   "metadata": {},
   "outputs": [
    {
     "data": {
      "image/png": "[encoded data removed]",
      "text/plain": [
       "<Figure size 500x500 with 1 Axes>"
      ]
     },
     "metadata": {},
     "output_type": "display_data"
    }
   ],
   "source": [
    "#detecccion de outliers de windspeed\n",
    "plt.figure(figsize=(5,5))\n",
    "sns.boxplot(x='windspeed',data=bike_train)\n",
    "plt.show()"
   ]
  },
  {
   "cell_type": "code",
   "execution_count": 31,
   "metadata": {},
   "outputs": [
    {
     "data": {
      "text/plain": [
       "(53, 14)"
      ]
     },
     "execution_count": 31,
     "metadata": {},
     "output_type": "execute_result"
    }
   ],
   "source": [
    "#cantidad de registros con un windspeed mayor a 0.6\n",
    "bike_train[bike_train['windspeed']>0.6].shape"
   ]
  },
  {
   "cell_type": "code",
   "execution_count": 32,
   "metadata": {},
   "outputs": [
    {
     "data": {
      "text/plain": [
       "0.004417034752896075"
      ]
     },
     "execution_count": 32,
     "metadata": {},
     "output_type": "execute_result"
    }
   ],
   "source": [
    "#porcentaje de registros con un windspeed mayor a 0.6\n",
    "#percent\n",
    "bike_train[bike_train['windspeed']>0.6].shape[0]/bike_train.shape[0]"
   ]
  },
  {
   "cell_type": "code",
   "execution_count": 33,
   "metadata": {},
   "outputs": [
    {
     "data": {
      "image/png": "[encoded data removed]",
      "text/plain": [
       "<Figure size 500x500 with 1 Axes>"
      ]
     },
     "metadata": {},
     "output_type": "display_data"
    }
   ],
   "source": [
    "# graficar cnt por weathersit\n",
    "plt.figure(figsize=(5,5))\n",
    "sns.barplot(x='weathersit',y='cnt',data=bike_train)\n",
    "plt.show()"
   ]
  },
  {
   "cell_type": "markdown",
   "metadata": {},
   "source": [
    "#### Observaciones:\n",
    " * en buenas condiciones meteorologicas: despejado con algunas nubes o parcialmente nublado, se da el mayor número de alquileres.\n",
    " * Con neblina el número desciende.\n",
    " * En malas condiciones climáticas ( 3 y 4) los alquileres bajan aún mas."
   ]
  },
  {
   "cell_type": "code",
   "execution_count": 34,
   "metadata": {},
   "outputs": [
    {
     "data": {
      "image/png": "[encoded data removed]",
      "text/plain": [
       "<Figure size 500x500 with 1 Axes>"
      ]
     },
     "metadata": {},
     "output_type": "display_data"
    }
   ],
   "source": [
    "#cnt con season\n",
    "plt.figure(figsize=(5,5))\n",
    "sns.barplot(x='season',y='cnt',data=bike_train)\n",
    "plt.show()"
   ]
  },
  {
   "cell_type": "code",
   "execution_count": 35,
   "metadata": {},
   "outputs": [
    {
     "data": {
      "image/png": "[encoded data removed]",
      "text/plain": [
       "<Figure size 2000x500 with 1 Axes>"
      ]
     },
     "metadata": {},
     "output_type": "display_data"
    }
   ],
   "source": [
    "#cnt por mnth y yr\n",
    "plt.figure(figsize=(20,5))\n",
    "sns.barplot(x='mnth',y='cnt',hue='yr',data=bike_train)\n",
    "plt.show()"
   ]
  },
  {
   "cell_type": "markdown",
   "metadata": {},
   "source": [
    "#### Observaciones:\n",
    "* A partir de marzo (inicio de la primaver en el hemisferio norte), empiezan a subir los alquileres de bicicleta.\n",
    "* Desde Septiembre (inicio del otoño, inician a descender), los valores mas baos están en enero/febrero (plena temporada invernal)."
   ]
  },
  {
   "cell_type": "code",
   "execution_count": 36,
   "metadata": {},
   "outputs": [
    {
     "data": {
      "text/plain": [
       "<AxesSubplot:xlabel='season', ylabel='count'>"
      ]
     },
     "execution_count": 36,
     "metadata": {},
     "output_type": "execute_result"
    },
    {
     "data": {
      "image/png": "[encoded data removed]",
      "text/plain": [
       "<Figure size 500x500 with 1 Axes>"
      ]
     },
     "metadata": {},
     "output_type": "display_data"
    }
   ],
   "source": [
    "# season bike_train\n",
    "plt.figure(figsize=(5,5))\n",
    "sns.countplot(x='season',data=bike_train)"
   ]
  },
  {
   "cell_type": "markdown",
   "metadata": {},
   "source": [
    "#### Observaciones:\n",
    "* En **bike_test** se observa un patrón estacional similar, con subas en los meses cálidos (sobre todo primavera) y descenso en los meses fríos."
   ]
  },
  {
   "cell_type": "code",
   "execution_count": 37,
   "metadata": {},
   "outputs": [
    {
     "data": {
      "text/plain": [
       "season\n",
       "1    3980\n",
       "2    3645\n",
       "3    2240\n",
       "4    2134\n",
       "dtype: int64"
      ]
     },
     "execution_count": 37,
     "metadata": {},
     "output_type": "execute_result"
    }
   ],
   "source": [
    "# bike_train agrupar por season\n",
    "bike_train.groupby('season').size()"
   ]
  },
  {
   "cell_type": "code",
   "execution_count": 38,
   "metadata": {},
   "outputs": [
    {
     "data": {
      "text/plain": [
       "season\n",
       "1     262\n",
       "2     764\n",
       "3    2256\n",
       "4    2098\n",
       "dtype: int64"
      ]
     },
     "execution_count": 38,
     "metadata": {},
     "output_type": "execute_result"
    }
   ],
   "source": [
    "bike_test.groupby('season').size()"
   ]
  },
  {
   "cell_type": "markdown",
   "metadata": {},
   "source": [
    "![separator2](https://i.imgur.com/4gX5WFr.png)\n",
    "\n",
    "## Modelo de Machine Learning\n"
   ]
  },
  {
   "cell_type": "markdown",
   "metadata": {},
   "source": [
    "#### Pasar fechas a números\n",
    "\n",
    "En lugar de trabajar con fechas, se va a pasar a un número representativo, mediante la funcion **tordinal**."
   ]
  },
  {
   "cell_type": "code",
   "execution_count": 39,
   "metadata": {},
   "outputs": [
    {
     "data": {
      "text/html": [
       "<div>\n",
       "<style scoped>\n",
       "    .dataframe tbody tr th:only-of-type {\n",
       "        vertical-align: middle;\n",
       "    }\n",
       "\n",
       "    .dataframe tbody tr th {\n",
       "        vertical-align: top;\n",
       "    }\n",
       "\n",
       "    .dataframe thead th {\n",
       "        text-align: right;\n",
       "    }\n",
       "</style>\n",
       "<table border=\"1\" class=\"dataframe\">\n",
       "  <thead>\n",
       "    <tr style=\"text-align: right;\">\n",
       "      <th></th>\n",
       "      <th>dteday</th>\n",
       "      <th>season</th>\n",
       "      <th>yr</th>\n",
       "      <th>mnth</th>\n",
       "      <th>hr</th>\n",
       "      <th>holiday</th>\n",
       "      <th>weekday</th>\n",
       "      <th>workingday</th>\n",
       "      <th>weathersit</th>\n",
       "      <th>temp</th>\n",
       "      <th>atemp</th>\n",
       "      <th>hum</th>\n",
       "      <th>windspeed</th>\n",
       "      <th>cnt</th>\n",
       "    </tr>\n",
       "  </thead>\n",
       "  <tbody>\n",
       "    <tr>\n",
       "      <th>0</th>\n",
       "      <td>734138</td>\n",
       "      <td>1</td>\n",
       "      <td>0</td>\n",
       "      <td>1</td>\n",
       "      <td>0</td>\n",
       "      <td>0</td>\n",
       "      <td>6</td>\n",
       "      <td>0</td>\n",
       "      <td>1</td>\n",
       "      <td>0.24</td>\n",
       "      <td>0.29</td>\n",
       "      <td>0.81</td>\n",
       "      <td>0.0</td>\n",
       "      <td>16</td>\n",
       "    </tr>\n",
       "    <tr>\n",
       "      <th>1</th>\n",
       "      <td>734138</td>\n",
       "      <td>1</td>\n",
       "      <td>0</td>\n",
       "      <td>1</td>\n",
       "      <td>1</td>\n",
       "      <td>0</td>\n",
       "      <td>6</td>\n",
       "      <td>0</td>\n",
       "      <td>1</td>\n",
       "      <td>0.22</td>\n",
       "      <td>0.27</td>\n",
       "      <td>0.80</td>\n",
       "      <td>0.0</td>\n",
       "      <td>40</td>\n",
       "    </tr>\n",
       "    <tr>\n",
       "      <th>2</th>\n",
       "      <td>734138</td>\n",
       "      <td>1</td>\n",
       "      <td>0</td>\n",
       "      <td>1</td>\n",
       "      <td>2</td>\n",
       "      <td>0</td>\n",
       "      <td>6</td>\n",
       "      <td>0</td>\n",
       "      <td>1</td>\n",
       "      <td>0.22</td>\n",
       "      <td>0.27</td>\n",
       "      <td>0.80</td>\n",
       "      <td>0.0</td>\n",
       "      <td>32</td>\n",
       "    </tr>\n",
       "    <tr>\n",
       "      <th>3</th>\n",
       "      <td>734138</td>\n",
       "      <td>1</td>\n",
       "      <td>0</td>\n",
       "      <td>1</td>\n",
       "      <td>3</td>\n",
       "      <td>0</td>\n",
       "      <td>6</td>\n",
       "      <td>0</td>\n",
       "      <td>1</td>\n",
       "      <td>0.24</td>\n",
       "      <td>0.29</td>\n",
       "      <td>0.75</td>\n",
       "      <td>0.0</td>\n",
       "      <td>13</td>\n",
       "    </tr>\n",
       "    <tr>\n",
       "      <th>4</th>\n",
       "      <td>734138</td>\n",
       "      <td>1</td>\n",
       "      <td>0</td>\n",
       "      <td>1</td>\n",
       "      <td>4</td>\n",
       "      <td>0</td>\n",
       "      <td>6</td>\n",
       "      <td>0</td>\n",
       "      <td>1</td>\n",
       "      <td>0.24</td>\n",
       "      <td>0.29</td>\n",
       "      <td>0.75</td>\n",
       "      <td>0.0</td>\n",
       "      <td>1</td>\n",
       "    </tr>\n",
       "  </tbody>\n",
       "</table>\n",
       "</div>"
      ],
      "text/plain": [
       "   dteday  season  yr  mnth  hr  holiday  weekday  workingday  weathersit  \\\n",
       "0  734138       1   0     1   0        0        6           0           1   \n",
       "1  734138       1   0     1   1        0        6           0           1   \n",
       "2  734138       1   0     1   2        0        6           0           1   \n",
       "3  734138       1   0     1   3        0        6           0           1   \n",
       "4  734138       1   0     1   4        0        6           0           1   \n",
       "\n",
       "   temp  atemp   hum  windspeed  cnt  \n",
       "0  0.24   0.29  0.81        0.0   16  \n",
       "1  0.22   0.27  0.80        0.0   40  \n",
       "2  0.22   0.27  0.80        0.0   32  \n",
       "3  0.24   0.29  0.75        0.0   13  \n",
       "4  0.24   0.29  0.75        0.0    1  "
      ]
     },
     "execution_count": 39,
     "metadata": {},
     "output_type": "execute_result"
    }
   ],
   "source": [
    "import datetime as dt\n",
    "bike_train['dteday']=bike_train['dteday'].map(dt.datetime.toordinal)\n",
    "bike_train.head()"
   ]
  },
  {
   "cell_type": "code",
   "execution_count": 40,
   "metadata": {},
   "outputs": [
    {
     "data": {
      "text/html": [
       "<div>\n",
       "<style scoped>\n",
       "    .dataframe tbody tr th:only-of-type {\n",
       "        vertical-align: middle;\n",
       "    }\n",
       "\n",
       "    .dataframe tbody tr th {\n",
       "        vertical-align: top;\n",
       "    }\n",
       "\n",
       "    .dataframe thead th {\n",
       "        text-align: right;\n",
       "    }\n",
       "</style>\n",
       "<table border=\"1\" class=\"dataframe\">\n",
       "  <thead>\n",
       "    <tr style=\"text-align: right;\">\n",
       "      <th></th>\n",
       "      <th>dteday</th>\n",
       "      <th>season</th>\n",
       "      <th>yr</th>\n",
       "      <th>mnth</th>\n",
       "      <th>hr</th>\n",
       "      <th>holiday</th>\n",
       "      <th>weekday</th>\n",
       "      <th>workingday</th>\n",
       "      <th>weathersit</th>\n",
       "      <th>temp</th>\n",
       "      <th>atemp</th>\n",
       "      <th>hum</th>\n",
       "      <th>windspeed</th>\n",
       "    </tr>\n",
       "  </thead>\n",
       "  <tbody>\n",
       "    <tr>\n",
       "      <th>0</th>\n",
       "      <td>734643</td>\n",
       "      <td>2</td>\n",
       "      <td>1</td>\n",
       "      <td>5</td>\n",
       "      <td>4</td>\n",
       "      <td>0</td>\n",
       "      <td>0</td>\n",
       "      <td>0</td>\n",
       "      <td>1</td>\n",
       "      <td>0.52</td>\n",
       "      <td>0.50</td>\n",
       "      <td>0.68</td>\n",
       "      <td>0.0896</td>\n",
       "    </tr>\n",
       "    <tr>\n",
       "      <th>1</th>\n",
       "      <td>734643</td>\n",
       "      <td>2</td>\n",
       "      <td>1</td>\n",
       "      <td>5</td>\n",
       "      <td>5</td>\n",
       "      <td>0</td>\n",
       "      <td>0</td>\n",
       "      <td>0</td>\n",
       "      <td>1</td>\n",
       "      <td>0.50</td>\n",
       "      <td>0.48</td>\n",
       "      <td>0.72</td>\n",
       "      <td>0.1045</td>\n",
       "    </tr>\n",
       "    <tr>\n",
       "      <th>2</th>\n",
       "      <td>734643</td>\n",
       "      <td>2</td>\n",
       "      <td>1</td>\n",
       "      <td>5</td>\n",
       "      <td>6</td>\n",
       "      <td>0</td>\n",
       "      <td>0</td>\n",
       "      <td>0</td>\n",
       "      <td>1</td>\n",
       "      <td>0.50</td>\n",
       "      <td>0.48</td>\n",
       "      <td>0.63</td>\n",
       "      <td>0.1343</td>\n",
       "    </tr>\n",
       "    <tr>\n",
       "      <th>3</th>\n",
       "      <td>734643</td>\n",
       "      <td>2</td>\n",
       "      <td>1</td>\n",
       "      <td>5</td>\n",
       "      <td>7</td>\n",
       "      <td>0</td>\n",
       "      <td>0</td>\n",
       "      <td>0</td>\n",
       "      <td>1</td>\n",
       "      <td>0.52</td>\n",
       "      <td>0.50</td>\n",
       "      <td>0.68</td>\n",
       "      <td>0.1940</td>\n",
       "    </tr>\n",
       "    <tr>\n",
       "      <th>4</th>\n",
       "      <td>734643</td>\n",
       "      <td>2</td>\n",
       "      <td>1</td>\n",
       "      <td>5</td>\n",
       "      <td>8</td>\n",
       "      <td>0</td>\n",
       "      <td>0</td>\n",
       "      <td>0</td>\n",
       "      <td>1</td>\n",
       "      <td>0.56</td>\n",
       "      <td>0.53</td>\n",
       "      <td>0.56</td>\n",
       "      <td>0.1642</td>\n",
       "    </tr>\n",
       "  </tbody>\n",
       "</table>\n",
       "</div>"
      ],
      "text/plain": [
       "   dteday  season  yr  mnth  hr  holiday  weekday  workingday  weathersit  \\\n",
       "0  734643       2   1     5   4        0        0           0           1   \n",
       "1  734643       2   1     5   5        0        0           0           1   \n",
       "2  734643       2   1     5   6        0        0           0           1   \n",
       "3  734643       2   1     5   7        0        0           0           1   \n",
       "4  734643       2   1     5   8        0        0           0           1   \n",
       "\n",
       "   temp  atemp   hum  windspeed  \n",
       "0  0.52   0.50  0.68     0.0896  \n",
       "1  0.50   0.48  0.72     0.1045  \n",
       "2  0.50   0.48  0.63     0.1343  \n",
       "3  0.52   0.50  0.68     0.1940  \n",
       "4  0.56   0.53  0.56     0.1642  "
      ]
     },
     "execution_count": 40,
     "metadata": {},
     "output_type": "execute_result"
    }
   ],
   "source": [
    "#cambiar tambien de dteday a ordinal en bike_test\n",
    "bike_test['dteday']=bike_test['dteday'].map(dt.datetime.toordinal)\n",
    "bike_test.head()"
   ]
  },
  {
   "cell_type": "markdown",
   "metadata": {},
   "source": [
    "![separator2](https://i.imgur.com/4gX5WFr.png)\n",
    "### Modelo Random Forest Classifier\n",
    "\n",
    "Un modelo Random Forest está formado por un conjunto (ensemble) de árboles de decisión individuales, cada uno entrenado con una muestra aleatoria extraída de los datos de entrenamiento originales mediante bootstrapping). Esto implica que cada árbol se entrena con unos datos ligeramente distintos."
   ]
  },
  {
   "cell_type": "code",
   "execution_count": 41,
   "metadata": {},
   "outputs": [],
   "source": [
    "# se importan los modelos a utilizar de la libreria sklearn\n",
    "\n",
    "from sklearn.ensemble import RandomForestClassifier\n",
    "from sklearn.ensemble import RandomForestRegressor\n",
    "from sklearn.linear_model import Lasso"
   ]
  },
  {
   "cell_type": "markdown",
   "metadata": {},
   "source": [
    "#### Se crea el Data Frame con las características que se van a usar y el del target"
   ]
  },
  {
   "cell_type": "code",
   "execution_count": 42,
   "metadata": {},
   "outputs": [],
   "source": [
    "bike_features = bike_train[['dteday', 'season', 'yr', 'mnth', 'hr', 'holiday', 'weekday',\n",
    "       'workingday', 'weathersit', 'temp', 'atemp', 'hum', 'windspeed']]\n",
    "\n",
    "bike_target = bike_train['cnt']"
   ]
  },
  {
   "cell_type": "markdown",
   "metadata": {},
   "source": [
    "#### Se crea el dataframe de features que se va a utilizar y el de target."
   ]
  },
  {
   "cell_type": "code",
   "execution_count": 43,
   "metadata": {},
   "outputs": [],
   "source": [
    "X = bike_features\n",
    "y = bike_target"
   ]
  },
  {
   "cell_type": "markdown",
   "metadata": {},
   "source": [
    "#### Se importa train_test_split y accuracy_score (sklearn) y se crea el grupo de entrenamiento y de prueba."
   ]
  },
  {
   "cell_type": "code",
   "execution_count": 44,
   "metadata": {},
   "outputs": [],
   "source": [
    "from sklearn.model_selection import train_test_split\n",
    "from sklearn.metrics import accuracy_score\n",
    "from sklearn.metrics import mean_squared_log_error\n",
    "from sklearn.metrics import mean_absolute_error\n",
    "from sklearn.metrics import mean_squared_error"
   ]
  },
  {
   "cell_type": "code",
   "execution_count": 45,
   "metadata": {},
   "outputs": [],
   "source": [
    "X_train, X_test, y_train, y_test = train_test_split(X, y, test_size=0.30, random_state=42)"
   ]
  },
  {
   "cell_type": "markdown",
   "metadata": {},
   "source": [
    "#### Se instancia el modelo y se entrena."
   ]
  },
  {
   "cell_type": "code",
   "execution_count": 46,
   "metadata": {},
   "outputs": [
    {
     "data": {
      "text/html": [
       "<style>#sk-container-id-1 {color: black;background-color: white;}#sk-container-id-1 pre{padding: 0;}#sk-container-id-1 div.sk-toggleable {background-color: white;}#sk-container-id-1 label.sk-toggleable__label {cursor: pointer;display: block;width: 100%;margin-bottom: 0;padding: 0.3em;box-sizing: border-box;text-align: center;}#sk-container-id-1 label.sk-toggleable__label-arrow:before {content: \"▸\";float: left;margin-right: 0.25em;color: #696969;}#sk-container-id-1 label.sk-toggleable__label-arrow:hover:before {color: black;}#sk-container-id-1 div.sk-estimator:hover label.sk-toggleable__label-arrow:before {color: black;}#sk-container-id-1 div.sk-toggleable__content {max-height: 0;max-width: 0;overflow: hidden;text-align: left;background-color: #f0f8ff;}#sk-container-id-1 div.sk-toggleable__content pre {margin: 0.2em;color: black;border-radius: 0.25em;background-color: #f0f8ff;}#sk-container-id-1 input.sk-toggleable__control:checked~div.sk-toggleable__content {max-height: 200px;max-width: 100%;overflow: auto;}#sk-container-id-1 input.sk-toggleable__control:checked~label.sk-toggleable__label-arrow:before {content: \"▾\";}#sk-container-id-1 div.sk-estimator input.sk-toggleable__control:checked~label.sk-toggleable__label {background-color: #d4ebff;}#sk-container-id-1 div.sk-label input.sk-toggleable__control:checked~label.sk-toggleable__label {background-color: #d4ebff;}#sk-container-id-1 input.sk-hidden--visually {border: 0;clip: rect(1px 1px 1px 1px);clip: rect(1px, 1px, 1px, 1px);height: 1px;margin: -1px;overflow: hidden;padding: 0;position: absolute;width: 1px;}#sk-container-id-1 div.sk-estimator {font-family: monospace;background-color: #f0f8ff;border: 1px dotted black;border-radius: 0.25em;box-sizing: border-box;margin-bottom: 0.5em;}#sk-container-id-1 div.sk-estimator:hover {background-color: #d4ebff;}#sk-container-id-1 div.sk-parallel-item::after {content: \"\";width: 100%;border-bottom: 1px solid gray;flex-grow: 1;}#sk-container-id-1 div.sk-label:hover label.sk-toggleable__label {background-color: #d4ebff;}#sk-container-id-1 div.sk-serial::before {content: \"\";position: absolute;border-left: 1px solid gray;box-sizing: border-box;top: 0;bottom: 0;left: 50%;z-index: 0;}#sk-container-id-1 div.sk-serial {display: flex;flex-direction: column;align-items: center;background-color: white;padding-right: 0.2em;padding-left: 0.2em;position: relative;}#sk-container-id-1 div.sk-item {position: relative;z-index: 1;}#sk-container-id-1 div.sk-parallel {display: flex;align-items: stretch;justify-content: center;background-color: white;position: relative;}#sk-container-id-1 div.sk-item::before, #sk-container-id-1 div.sk-parallel-item::before {content: \"\";position: absolute;border-left: 1px solid gray;box-sizing: border-box;top: 0;bottom: 0;left: 50%;z-index: -1;}#sk-container-id-1 div.sk-parallel-item {display: flex;flex-direction: column;z-index: 1;position: relative;background-color: white;}#sk-container-id-1 div.sk-parallel-item:first-child::after {align-self: flex-end;width: 50%;}#sk-container-id-1 div.sk-parallel-item:last-child::after {align-self: flex-start;width: 50%;}#sk-container-id-1 div.sk-parallel-item:only-child::after {width: 0;}#sk-container-id-1 div.sk-dashed-wrapped {border: 1px dashed gray;margin: 0 0.4em 0.5em 0.4em;box-sizing: border-box;padding-bottom: 0.4em;background-color: white;}#sk-container-id-1 div.sk-label label {font-family: monospace;font-weight: bold;display: inline-block;line-height: 1.2em;}#sk-container-id-1 div.sk-label-container {text-align: center;}#sk-container-id-1 div.sk-container {/* jupyter's `normalize.less` sets `[hidden] { display: none; }` but bootstrap.min.css set `[hidden] { display: none !important; }` so we also need the `!important` here to be able to override the default hidden behavior on the sphinx rendered scikit-learn.org. See: https://github.com/scikit-learn/scikit-learn/issues/21755 */display: inline-block !important;position: relative;}#sk-container-id-1 div.sk-text-repr-fallback {display: none;}</style><div id=\"sk-container-id-1\" class=\"sk-top-container\"><div class=\"sk-text-repr-fallback\"><pre>RandomForestClassifier(n_estimators=200, n_jobs=-1, oob_score=True,\n",
       "                       random_state=42)</pre><b>In a Jupyter environment, please rerun this cell to show the HTML representation or trust the notebook. <br />On GitHub, the HTML representation is unable to render, please try loading this page with nbviewer.org.</b></div><div class=\"sk-container\" hidden><div class=\"sk-item\"><div class=\"sk-estimator sk-toggleable\"><input class=\"sk-toggleable__control sk-hidden--visually\" id=\"sk-estimator-id-1\" type=\"checkbox\" checked><label for=\"sk-estimator-id-1\" class=\"sk-toggleable__label sk-toggleable__label-arrow\">RandomForestClassifier</label><div class=\"sk-toggleable__content\"><pre>RandomForestClassifier(n_estimators=200, n_jobs=-1, oob_score=True,\n",
       "                       random_state=42)</pre></div></div></div></div></div>"
      ],
      "text/plain": [
       "RandomForestClassifier(n_estimators=200, n_jobs=-1, oob_score=True,\n",
       "                       random_state=42)"
      ]
     },
     "execution_count": 46,
     "metadata": {},
     "output_type": "execute_result"
    }
   ],
   "source": [
    "clf = RandomForestClassifier(n_estimators=200, max_features='sqrt', n_jobs=-1, oob_score = True, random_state = 42)\n",
    "clf.fit(X_train,y_train)"
   ]
  },
  {
   "cell_type": "markdown",
   "metadata": {},
   "source": [
    "#### Se evalúa el desempeño del conjunto de prueba"
   ]
  },
  {
   "cell_type": "code",
   "execution_count": 47,
   "metadata": {},
   "outputs": [
    {
     "name": "stdout",
     "output_type": "stream",
     "text": [
      "Accuracy score del grupo train 1.0\n",
      "Accuracy score del grupo test 0.0225\n"
     ]
    }
   ],
   "source": [
    "y_train_pred = clf.predict(X_train)\n",
    "y_test_pred = clf.predict(X_test)\n",
    "print(\"Accuracy score del grupo train\", accuracy_score(y_train, y_train_pred))\n",
    "print(\"Accuracy score del grupo test\", accuracy_score(y_test, y_test_pred))"
   ]
  },
  {
   "cell_type": "code",
   "execution_count": 48,
   "metadata": {},
   "outputs": [
    {
     "data": {
      "text/plain": [
       "1.0"
      ]
     },
     "execution_count": 48,
     "metadata": {},
     "output_type": "execute_result"
    }
   ],
   "source": [
    "clf.score(X_train,y_train)"
   ]
  },
  {
   "cell_type": "markdown",
   "metadata": {},
   "source": [
    "#### Error cuadrático medio logarítmico"
   ]
  },
  {
   "cell_type": "code",
   "execution_count": 49,
   "metadata": {},
   "outputs": [
    {
     "name": "stdout",
     "output_type": "stream",
     "text": [
      "Error cuadratico medio logaritmico:  0.6305929254718785\n"
     ]
    }
   ],
   "source": [
    "RMSLE = mean_squared_log_error(y_test, y_test_pred,squared=False)\n",
    "print('Error cuadratico medio logaritmico: ', RMSLE) "
   ]
  },
  {
   "cell_type": "markdown",
   "metadata": {},
   "source": [
    "#### Raíz del Error Cuadrático Medio (RMSE)"
   ]
  },
  {
   "cell_type": "code",
   "execution_count": 50,
   "metadata": {},
   "outputs": [
    {
     "name": "stdout",
     "output_type": "stream",
     "text": [
      "Error cuadratico medio:  94.15338106869379\n"
     ]
    }
   ],
   "source": [
    "#calculo de la raiz cuadrada del error cuadratico medio\n",
    "RMSE = mean_squared_error(y_test, y_test_pred,squared=False)\n",
    "print('Error cuadratico medio: ', RMSE)"
   ]
  },
  {
   "cell_type": "markdown",
   "metadata": {},
   "source": [
    "#### Valor del error medio"
   ]
  },
  {
   "cell_type": "code",
   "execution_count": 51,
   "metadata": {},
   "outputs": [
    {
     "data": {
      "text/plain": [
       "56.99472222222222"
      ]
     },
     "execution_count": 51,
     "metadata": {},
     "output_type": "execute_result"
    }
   ],
   "source": [
    "mean_absolute_error(y_test,  y_test_pred)"
   ]
  },
  {
   "cell_type": "markdown",
   "metadata": {},
   "source": [
    "![separator2](https://i.imgur.com/4gX5WFr.png)\n",
    "### Modelo Random Forest Regressor"
   ]
  },
  {
   "cell_type": "markdown",
   "metadata": {},
   "source": [
    "#### Se crea el dataframe de features que se va a utilizar y el de target."
   ]
  },
  {
   "cell_type": "code",
   "execution_count": 52,
   "metadata": {},
   "outputs": [],
   "source": [
    "X = bike_features\n",
    "y = bike_target"
   ]
  },
  {
   "cell_type": "markdown",
   "metadata": {},
   "source": [
    "#### Se define el grupo de entrenamiento y de prueba."
   ]
  },
  {
   "cell_type": "code",
   "execution_count": 53,
   "metadata": {},
   "outputs": [],
   "source": [
    "X_train, X_test, y_train, y_test = train_test_split(X, y, test_size=0.2, random_state=42)"
   ]
  },
  {
   "cell_type": "markdown",
   "metadata": {},
   "source": [
    "#### Se instancia el modelo RandomForestRegressor y se entrena."
   ]
  },
  {
   "cell_type": "code",
   "execution_count": 54,
   "metadata": {},
   "outputs": [
    {
     "data": {
      "text/html": [
       "<style>#sk-container-id-2 {color: black;background-color: white;}#sk-container-id-2 pre{padding: 0;}#sk-container-id-2 div.sk-toggleable {background-color: white;}#sk-container-id-2 label.sk-toggleable__label {cursor: pointer;display: block;width: 100%;margin-bottom: 0;padding: 0.3em;box-sizing: border-box;text-align: center;}#sk-container-id-2 label.sk-toggleable__label-arrow:before {content: \"▸\";float: left;margin-right: 0.25em;color: #696969;}#sk-container-id-2 label.sk-toggleable__label-arrow:hover:before {color: black;}#sk-container-id-2 div.sk-estimator:hover label.sk-toggleable__label-arrow:before {color: black;}#sk-container-id-2 div.sk-toggleable__content {max-height: 0;max-width: 0;overflow: hidden;text-align: left;background-color: #f0f8ff;}#sk-container-id-2 div.sk-toggleable__content pre {margin: 0.2em;color: black;border-radius: 0.25em;background-color: #f0f8ff;}#sk-container-id-2 input.sk-toggleable__control:checked~div.sk-toggleable__content {max-height: 200px;max-width: 100%;overflow: auto;}#sk-container-id-2 input.sk-toggleable__control:checked~label.sk-toggleable__label-arrow:before {content: \"▾\";}#sk-container-id-2 div.sk-estimator input.sk-toggleable__control:checked~label.sk-toggleable__label {background-color: #d4ebff;}#sk-container-id-2 div.sk-label input.sk-toggleable__control:checked~label.sk-toggleable__label {background-color: #d4ebff;}#sk-container-id-2 input.sk-hidden--visually {border: 0;clip: rect(1px 1px 1px 1px);clip: rect(1px, 1px, 1px, 1px);height: 1px;margin: -1px;overflow: hidden;padding: 0;position: absolute;width: 1px;}#sk-container-id-2 div.sk-estimator {font-family: monospace;background-color: #f0f8ff;border: 1px dotted black;border-radius: 0.25em;box-sizing: border-box;margin-bottom: 0.5em;}#sk-container-id-2 div.sk-estimator:hover {background-color: #d4ebff;}#sk-container-id-2 div.sk-parallel-item::after {content: \"\";width: 100%;border-bottom: 1px solid gray;flex-grow: 1;}#sk-container-id-2 div.sk-label:hover label.sk-toggleable__label {background-color: #d4ebff;}#sk-container-id-2 div.sk-serial::before {content: \"\";position: absolute;border-left: 1px solid gray;box-sizing: border-box;top: 0;bottom: 0;left: 50%;z-index: 0;}#sk-container-id-2 div.sk-serial {display: flex;flex-direction: column;align-items: center;background-color: white;padding-right: 0.2em;padding-left: 0.2em;position: relative;}#sk-container-id-2 div.sk-item {position: relative;z-index: 1;}#sk-container-id-2 div.sk-parallel {display: flex;align-items: stretch;justify-content: center;background-color: white;position: relative;}#sk-container-id-2 div.sk-item::before, #sk-container-id-2 div.sk-parallel-item::before {content: \"\";position: absolute;border-left: 1px solid gray;box-sizing: border-box;top: 0;bottom: 0;left: 50%;z-index: -1;}#sk-container-id-2 div.sk-parallel-item {display: flex;flex-direction: column;z-index: 1;position: relative;background-color: white;}#sk-container-id-2 div.sk-parallel-item:first-child::after {align-self: flex-end;width: 50%;}#sk-container-id-2 div.sk-parallel-item:last-child::after {align-self: flex-start;width: 50%;}#sk-container-id-2 div.sk-parallel-item:only-child::after {width: 0;}#sk-container-id-2 div.sk-dashed-wrapped {border: 1px dashed gray;margin: 0 0.4em 0.5em 0.4em;box-sizing: border-box;padding-bottom: 0.4em;background-color: white;}#sk-container-id-2 div.sk-label label {font-family: monospace;font-weight: bold;display: inline-block;line-height: 1.2em;}#sk-container-id-2 div.sk-label-container {text-align: center;}#sk-container-id-2 div.sk-container {/* jupyter's `normalize.less` sets `[hidden] { display: none; }` but bootstrap.min.css set `[hidden] { display: none !important; }` so we also need the `!important` here to be able to override the default hidden behavior on the sphinx rendered scikit-learn.org. See: https://github.com/scikit-learn/scikit-learn/issues/21755 */display: inline-block !important;position: relative;}#sk-container-id-2 div.sk-text-repr-fallback {display: none;}</style><div id=\"sk-container-id-2\" class=\"sk-top-container\"><div class=\"sk-text-repr-fallback\"><pre>RandomForestRegressor(random_state=42)</pre><b>In a Jupyter environment, please rerun this cell to show the HTML representation or trust the notebook. <br />On GitHub, the HTML representation is unable to render, please try loading this page with nbviewer.org.</b></div><div class=\"sk-container\" hidden><div class=\"sk-item\"><div class=\"sk-estimator sk-toggleable\"><input class=\"sk-toggleable__control sk-hidden--visually\" id=\"sk-estimator-id-2\" type=\"checkbox\" checked><label for=\"sk-estimator-id-2\" class=\"sk-toggleable__label sk-toggleable__label-arrow\">RandomForestRegressor</label><div class=\"sk-toggleable__content\"><pre>RandomForestRegressor(random_state=42)</pre></div></div></div></div></div>"
      ],
      "text/plain": [
       "RandomForestRegressor(random_state=42)"
      ]
     },
     "execution_count": 54,
     "metadata": {},
     "output_type": "execute_result"
    }
   ],
   "source": [
    "model_RFR = RandomForestRegressor(n_estimators=100, random_state=42)\n",
    "model_RFR.fit(X_train, y_train)"
   ]
  },
  {
   "cell_type": "code",
   "execution_count": 55,
   "metadata": {},
   "outputs": [
    {
     "data": {
      "text/plain": [
       "array([148.03,   5.3 , 236.72, ..., 344.87, 184.06, 273.08])"
      ]
     },
     "execution_count": 55,
     "metadata": {},
     "output_type": "execute_result"
    }
   ],
   "source": [
    "model_RFR.predict(X_test) # Predictions"
   ]
  },
  {
   "cell_type": "markdown",
   "metadata": {},
   "source": [
    "#### Rendimiento del modelo"
   ]
  },
  {
   "cell_type": "code",
   "execution_count": 56,
   "metadata": {},
   "outputs": [
    {
     "name": "stdout",
     "output_type": "stream",
     "text": [
      "Rendimiento del modelo:  0.9378316370836464\n"
     ]
    }
   ],
   "source": [
    "print('Rendimiento del modelo: ', model_RFR.score(X_test, y_test))"
   ]
  },
  {
   "cell_type": "markdown",
   "metadata": {},
   "source": [
    "#### Se predice los valores del entrenamiento con el conjunto de testeo y se guarda en una variable."
   ]
  },
  {
   "cell_type": "code",
   "execution_count": 57,
   "metadata": {},
   "outputs": [],
   "source": [
    "y_pred = model_RFR.predict(X_test)"
   ]
  },
  {
   "cell_type": "markdown",
   "metadata": {},
   "source": [
    "#### Se calcula el valor del error medio"
   ]
  },
  {
   "cell_type": "code",
   "execution_count": 58,
   "metadata": {},
   "outputs": [
    {
     "data": {
      "text/plain": [
       "22.257629166666664"
      ]
     },
     "execution_count": 58,
     "metadata": {},
     "output_type": "execute_result"
    }
   ],
   "source": [
    "mean_absolute_error(y_test, y_pred)"
   ]
  },
  {
   "cell_type": "markdown",
   "metadata": {},
   "source": [
    "#### Se calcula el RMSE"
   ]
  },
  {
   "cell_type": "code",
   "execution_count": 59,
   "metadata": {},
   "outputs": [
    {
     "name": "stdout",
     "output_type": "stream",
     "text": [
      "Raíz del Error Cuadrático Medio:  37.045433016432675\n"
     ]
    }
   ],
   "source": [
    "RMSE=mean_squared_error(y_test, y_pred, squared=False)\n",
    "print('Raíz del Error Cuadrático Medio: ', RMSE) "
   ]
  },
  {
   "cell_type": "markdown",
   "metadata": {},
   "source": [
    "#### Se grafica el desempeño del modelo RandomForestRegressor "
   ]
  },
  {
   "cell_type": "code",
   "execution_count": 60,
   "metadata": {},
   "outputs": [
    {
     "name": "stderr",
     "output_type": "stream",
     "text": [
      "C:\\Users\\crisz\\AppData\\Local\\Temp\\ipykernel_180060\\2589949182.py:2: UserWarning: color is redundantly defined by the 'color' keyword argument and the fmt string \"k--\" (-> color='k'). The keyword argument will take precedence.\n",
      "  plt.plot([y_test.min(), y_test.max()], [y_test.min(), y_test.max()], 'k--', lw=3,color='red')\n"
     ]
    },
    {
     "data": {
      "image/png": "[encoded data removed]",
      "text/plain": [
       "<Figure size 640x480 with 1 Axes>"
      ]
     },
     "metadata": {},
     "output_type": "display_data"
    }
   ],
   "source": [
    "plt.scatter(y_test, y_pred, color='gray')\n",
    "plt.plot([y_test.min(), y_test.max()], [y_test.min(), y_test.max()], 'k--', lw=3,color='red')\n",
    "plt.legend(['Valores reales', 'Prediccion'])\n",
    "plt.title('Desempeño del modelo Random Forest Regressor')\n",
    "plt.xlabel('y_test')\n",
    "plt.ylabel('y_test_pred')\n",
    "plt.show()"
   ]
  },
  {
   "cell_type": "markdown",
   "metadata": {},
   "source": [
    "![separator2](https://i.imgur.com/4gX5WFr.png)\n",
    "### Modelo Lasso Regressor"
   ]
  },
  {
   "cell_type": "markdown",
   "metadata": {},
   "source": [
    "#### Se crea el Data Frame de Features que se utilizará y el target."
   ]
  },
  {
   "cell_type": "code",
   "execution_count": 61,
   "metadata": {},
   "outputs": [],
   "source": [
    "X = bike_features\n",
    "y = bike_target"
   ]
  },
  {
   "cell_type": "markdown",
   "metadata": {},
   "source": [
    "#### Se define el grupo de entrenamiento y de prueba.\n"
   ]
  },
  {
   "cell_type": "code",
   "execution_count": 62,
   "metadata": {},
   "outputs": [],
   "source": [
    "X_train, X_test, y_train, y_test = train_test_split(X, y, test_size=0.2, random_state=42)"
   ]
  },
  {
   "cell_type": "markdown",
   "metadata": {},
   "source": [
    "#### Se instancia el modelo."
   ]
  },
  {
   "cell_type": "code",
   "execution_count": 63,
   "metadata": {},
   "outputs": [],
   "source": [
    "lasso = Lasso()"
   ]
  },
  {
   "cell_type": "markdown",
   "metadata": {},
   "source": [
    "#### Se entrena el modelo"
   ]
  },
  {
   "cell_type": "code",
   "execution_count": 64,
   "metadata": {},
   "outputs": [
    {
     "data": {
      "text/html": [
       "<style>#sk-container-id-3 {color: black;background-color: white;}#sk-container-id-3 pre{padding: 0;}#sk-container-id-3 div.sk-toggleable {background-color: white;}#sk-container-id-3 label.sk-toggleable__label {cursor: pointer;display: block;width: 100%;margin-bottom: 0;padding: 0.3em;box-sizing: border-box;text-align: center;}#sk-container-id-3 label.sk-toggleable__label-arrow:before {content: \"▸\";float: left;margin-right: 0.25em;color: #696969;}#sk-container-id-3 label.sk-toggleable__label-arrow:hover:before {color: black;}#sk-container-id-3 div.sk-estimator:hover label.sk-toggleable__label-arrow:before {color: black;}#sk-container-id-3 div.sk-toggleable__content {max-height: 0;max-width: 0;overflow: hidden;text-align: left;background-color: #f0f8ff;}#sk-container-id-3 div.sk-toggleable__content pre {margin: 0.2em;color: black;border-radius: 0.25em;background-color: #f0f8ff;}#sk-container-id-3 input.sk-toggleable__control:checked~div.sk-toggleable__content {max-height: 200px;max-width: 100%;overflow: auto;}#sk-container-id-3 input.sk-toggleable__control:checked~label.sk-toggleable__label-arrow:before {content: \"▾\";}#sk-container-id-3 div.sk-estimator input.sk-toggleable__control:checked~label.sk-toggleable__label {background-color: #d4ebff;}#sk-container-id-3 div.sk-label input.sk-toggleable__control:checked~label.sk-toggleable__label {background-color: #d4ebff;}#sk-container-id-3 input.sk-hidden--visually {border: 0;clip: rect(1px 1px 1px 1px);clip: rect(1px, 1px, 1px, 1px);height: 1px;margin: -1px;overflow: hidden;padding: 0;position: absolute;width: 1px;}#sk-container-id-3 div.sk-estimator {font-family: monospace;background-color: #f0f8ff;border: 1px dotted black;border-radius: 0.25em;box-sizing: border-box;margin-bottom: 0.5em;}#sk-container-id-3 div.sk-estimator:hover {background-color: #d4ebff;}#sk-container-id-3 div.sk-parallel-item::after {content: \"\";width: 100%;border-bottom: 1px solid gray;flex-grow: 1;}#sk-container-id-3 div.sk-label:hover label.sk-toggleable__label {background-color: #d4ebff;}#sk-container-id-3 div.sk-serial::before {content: \"\";position: absolute;border-left: 1px solid gray;box-sizing: border-box;top: 0;bottom: 0;left: 50%;z-index: 0;}#sk-container-id-3 div.sk-serial {display: flex;flex-direction: column;align-items: center;background-color: white;padding-right: 0.2em;padding-left: 0.2em;position: relative;}#sk-container-id-3 div.sk-item {position: relative;z-index: 1;}#sk-container-id-3 div.sk-parallel {display: flex;align-items: stretch;justify-content: center;background-color: white;position: relative;}#sk-container-id-3 div.sk-item::before, #sk-container-id-3 div.sk-parallel-item::before {content: \"\";position: absolute;border-left: 1px solid gray;box-sizing: border-box;top: 0;bottom: 0;left: 50%;z-index: -1;}#sk-container-id-3 div.sk-parallel-item {display: flex;flex-direction: column;z-index: 1;position: relative;background-color: white;}#sk-container-id-3 div.sk-parallel-item:first-child::after {align-self: flex-end;width: 50%;}#sk-container-id-3 div.sk-parallel-item:last-child::after {align-self: flex-start;width: 50%;}#sk-container-id-3 div.sk-parallel-item:only-child::after {width: 0;}#sk-container-id-3 div.sk-dashed-wrapped {border: 1px dashed gray;margin: 0 0.4em 0.5em 0.4em;box-sizing: border-box;padding-bottom: 0.4em;background-color: white;}#sk-container-id-3 div.sk-label label {font-family: monospace;font-weight: bold;display: inline-block;line-height: 1.2em;}#sk-container-id-3 div.sk-label-container {text-align: center;}#sk-container-id-3 div.sk-container {/* jupyter's `normalize.less` sets `[hidden] { display: none; }` but bootstrap.min.css set `[hidden] { display: none !important; }` so we also need the `!important` here to be able to override the default hidden behavior on the sphinx rendered scikit-learn.org. See: https://github.com/scikit-learn/scikit-learn/issues/21755 */display: inline-block !important;position: relative;}#sk-container-id-3 div.sk-text-repr-fallback {display: none;}</style><div id=\"sk-container-id-3\" class=\"sk-top-container\"><div class=\"sk-text-repr-fallback\"><pre>Lasso()</pre><b>In a Jupyter environment, please rerun this cell to show the HTML representation or trust the notebook. <br />On GitHub, the HTML representation is unable to render, please try loading this page with nbviewer.org.</b></div><div class=\"sk-container\" hidden><div class=\"sk-item\"><div class=\"sk-estimator sk-toggleable\"><input class=\"sk-toggleable__control sk-hidden--visually\" id=\"sk-estimator-id-3\" type=\"checkbox\" checked><label for=\"sk-estimator-id-3\" class=\"sk-toggleable__label sk-toggleable__label-arrow\">Lasso</label><div class=\"sk-toggleable__content\"><pre>Lasso()</pre></div></div></div></div></div>"
      ],
      "text/plain": [
       "Lasso()"
      ]
     },
     "execution_count": 64,
     "metadata": {},
     "output_type": "execute_result"
    }
   ],
   "source": [
    "lasso.fit(X_train, y_train)\n"
   ]
  },
  {
   "cell_type": "markdown",
   "metadata": {},
   "source": [
    "#### Se predice los valores."
   ]
  },
  {
   "cell_type": "code",
   "execution_count": 65,
   "metadata": {},
   "outputs": [],
   "source": [
    "predict = lasso.predict(X_test)"
   ]
  },
  {
   "cell_type": "code",
   "execution_count": 66,
   "metadata": {},
   "outputs": [
    {
     "data": {
      "text/plain": [
       "0.3575903560995196"
      ]
     },
     "execution_count": 66,
     "metadata": {},
     "output_type": "execute_result"
    }
   ],
   "source": [
    "lasso.score(X_test, y_test)"
   ]
  },
  {
   "cell_type": "markdown",
   "metadata": {},
   "source": [
    "#### Se predice los valores con el conjunto de testeo y se guarda en una variable. "
   ]
  },
  {
   "cell_type": "code",
   "execution_count": 67,
   "metadata": {},
   "outputs": [],
   "source": [
    "y_pred = lasso.predict(X_test)"
   ]
  },
  {
   "cell_type": "code",
   "execution_count": 68,
   "metadata": {},
   "outputs": [
    {
     "name": "stdout",
     "output_type": "stream",
     "text": [
      "Raíz del Error Cuadrático Medio:  119.0847052071349\n"
     ]
    }
   ],
   "source": [
    "# calcular el RMSE\n",
    "RMSE=mean_squared_error(y_test, y_pred, squared=False)\n",
    "print('Raíz del Error Cuadrático Medio: ', RMSE)"
   ]
  },
  {
   "cell_type": "code",
   "execution_count": 69,
   "metadata": {},
   "outputs": [
    {
     "data": {
      "text/plain": [
       "89.43205453316729"
      ]
     },
     "execution_count": 69,
     "metadata": {},
     "output_type": "execute_result"
    }
   ],
   "source": [
    "#vamos a calcular el valor del error medio\n",
    "mean_absolute_error(y_test, y_pred)"
   ]
  },
  {
   "cell_type": "code",
   "execution_count": 70,
   "metadata": {},
   "outputs": [
    {
     "name": "stderr",
     "output_type": "stream",
     "text": [
      "C:\\Users\\crisz\\AppData\\Local\\Temp\\ipykernel_180060\\458809994.py:3: UserWarning: color is redundantly defined by the 'color' keyword argument and the fmt string \"k--\" (-> color='k'). The keyword argument will take precedence.\n",
      "  plt.plot([y_test.min(), y_test.max()], [y_test.min(), y_test.max()], 'k--', lw=3,color='red')\n"
     ]
    },
    {
     "data": {
      "image/png": "[encoded data removed]",
      "text/plain": [
       "<Figure size 640x480 with 1 Axes>"
      ]
     },
     "metadata": {},
     "output_type": "display_data"
    }
   ],
   "source": [
    "#graficamos el desempeño del modelo de regresion Lasso \n",
    "plt.scatter(y_test, y_pred, color='grey')\n",
    "plt.plot([y_test.min(), y_test.max()], [y_test.min(), y_test.max()], 'k--', lw=3,color='red')\n",
    "plt.legend(['Valores reales', 'Prediccion'])\n",
    "plt.title('Desempeño del modelo Lasso')\n",
    "plt.xlabel('y_test')\n",
    "plt.ylabel('y_test_pred')\n",
    "plt.show()"
   ]
  },
  {
   "cell_type": "markdown",
   "metadata": {},
   "source": [
    "![separator2](https://i.imgur.com/4gX5WFr.png)\n",
    "\n",
    "### Se prueba el mejor modelo Random Forest Regressor con el Dataset de Testeo: bike_test."
   ]
  },
  {
   "cell_type": "code",
   "execution_count": 71,
   "metadata": {},
   "outputs": [],
   "source": [
    "df_resultado = model_RFR.predict(bike_test)"
   ]
  },
  {
   "cell_type": "code",
   "execution_count": 85,
   "metadata": {},
   "outputs": [],
   "source": [
    "criszam99 = pd.DataFrame(df_resultado)"
   ]
  },
  {
   "cell_type": "code",
   "execution_count": 86,
   "metadata": {},
   "outputs": [],
   "source": [
    "criszam99.to_csv('./criszam99.csv',index=False)"
   ]
  },
  {
   "cell_type": "code",
   "execution_count": 88,
   "metadata": {},
   "outputs": [],
   "source": [
    "#agregar nombre de columna al archivo criszam99\n",
    "criszam99.columns = ['pred']\n",
    "criszam99.to_csv('./criszam99.csv',index=False)"
   ]
  }
 ],
 "metadata": {
  "kernelspec": {
   "display_name": "Python 3.10.6 64-bit",
   "language": "python",
   "name": "python3"
  },
  "language_info": {
   "codemirror_mode": {
    "name": "ipython",
    "version": 3
   },
   "file_extension": ".py",
   "mimetype": "text/x-python",
   "name": "python",
   "nbconvert_exporter": "python",
   "pygments_lexer": "ipython3",
   "version": "3.10.6"
  },
  "orig_nbformat": 4,
  "vscode": {
   "interpreter": {
    "hash": "d46546ac027097ea23ecdc50871ac50fa2b04e00bab4da596875593c6ed971e7"
   }
  }
 },
 "nbformat": 4,
 "nbformat_minor": 2
}
